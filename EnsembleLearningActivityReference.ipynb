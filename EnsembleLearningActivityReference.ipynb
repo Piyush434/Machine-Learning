{
  "cells": [
    {
      "cell_type": "markdown",
      "metadata": {
        "id": "gCt3uiyV7JDm"
      },
      "source": [
        "***Ensemble Learning Activity***\n",
        "\n",
        "Group Members:\n",
        "1. 03 Pranjal Patil\n",
        "2. 11 Prerna Joshi\n",
        "3. 34 Snehal Mali\n",
        "4. 66 Rutuja Mahajan\n",
        "\n",
        "Batch: ML2"
      ]
    },
    {
      "cell_type": "markdown",
      "metadata": {
        "id": "LxWX9kl3yGfk"
      },
      "source": [
        "# ***Import Libraries***"
      ]
    },
    {
      "cell_type": "code",
      "execution_count": null,
      "metadata": {
        "id": "iDyErieJBo30"
      },
      "outputs": [],
      "source": [
        "import pandas as pd\n",
        "import numpy as np\n",
        "import matplotlib.pyplot as plt\n",
        "import seaborn as sns\n",
        "\n",
        "\n",
        "%matplotlib inline"
      ]
    },
    {
      "cell_type": "markdown",
      "metadata": {
        "id": "jsTCkyERyNoH"
      },
      "source": [
        "# ***Import Dataset***"
      ]
    },
    {
      "cell_type": "code",
      "execution_count": null,
      "metadata": {
        "colab": {
          "base_uri": "https://localhost:8080/",
          "height": 206
        },
        "id": "UMqjHnptB-2c",
        "outputId": "2cf02cb4-20ba-42da-f249-6b062fba3b7f"
      },
      "outputs": [
        {
          "data": {
            "text/html": [
              "\n",
              "  <div id=\"df-3961f4b3-1e8e-4b78-910f-4b6db8c6c674\">\n",
              "    <div class=\"colab-df-container\">\n",
              "      <div>\n",
              "<style scoped>\n",
              "    .dataframe tbody tr th:only-of-type {\n",
              "        vertical-align: middle;\n",
              "    }\n",
              "\n",
              "    .dataframe tbody tr th {\n",
              "        vertical-align: top;\n",
              "    }\n",
              "\n",
              "    .dataframe thead th {\n",
              "        text-align: right;\n",
              "    }\n",
              "</style>\n",
              "<table border=\"1\" class=\"dataframe\">\n",
              "  <thead>\n",
              "    <tr style=\"text-align: right;\">\n",
              "      <th></th>\n",
              "      <th>Pregnancies</th>\n",
              "      <th>Glucose</th>\n",
              "      <th>BloodPressure</th>\n",
              "      <th>SkinThickness</th>\n",
              "      <th>Insulin</th>\n",
              "      <th>BMI</th>\n",
              "      <th>DiabetesPedigreeFunction</th>\n",
              "      <th>Age</th>\n",
              "      <th>Outcome</th>\n",
              "    </tr>\n",
              "  </thead>\n",
              "  <tbody>\n",
              "    <tr>\n",
              "      <th>0</th>\n",
              "      <td>6</td>\n",
              "      <td>148</td>\n",
              "      <td>72</td>\n",
              "      <td>35</td>\n",
              "      <td>0</td>\n",
              "      <td>33.6</td>\n",
              "      <td>0.627</td>\n",
              "      <td>50</td>\n",
              "      <td>1</td>\n",
              "    </tr>\n",
              "    <tr>\n",
              "      <th>1</th>\n",
              "      <td>1</td>\n",
              "      <td>85</td>\n",
              "      <td>66</td>\n",
              "      <td>29</td>\n",
              "      <td>0</td>\n",
              "      <td>26.6</td>\n",
              "      <td>0.351</td>\n",
              "      <td>31</td>\n",
              "      <td>0</td>\n",
              "    </tr>\n",
              "    <tr>\n",
              "      <th>2</th>\n",
              "      <td>8</td>\n",
              "      <td>183</td>\n",
              "      <td>64</td>\n",
              "      <td>0</td>\n",
              "      <td>0</td>\n",
              "      <td>23.3</td>\n",
              "      <td>0.672</td>\n",
              "      <td>32</td>\n",
              "      <td>1</td>\n",
              "    </tr>\n",
              "    <tr>\n",
              "      <th>3</th>\n",
              "      <td>1</td>\n",
              "      <td>89</td>\n",
              "      <td>66</td>\n",
              "      <td>23</td>\n",
              "      <td>94</td>\n",
              "      <td>28.1</td>\n",
              "      <td>0.167</td>\n",
              "      <td>21</td>\n",
              "      <td>0</td>\n",
              "    </tr>\n",
              "    <tr>\n",
              "      <th>4</th>\n",
              "      <td>0</td>\n",
              "      <td>137</td>\n",
              "      <td>40</td>\n",
              "      <td>35</td>\n",
              "      <td>168</td>\n",
              "      <td>43.1</td>\n",
              "      <td>2.288</td>\n",
              "      <td>33</td>\n",
              "      <td>1</td>\n",
              "    </tr>\n",
              "  </tbody>\n",
              "</table>\n",
              "</div>\n",
              "      <button class=\"colab-df-convert\" onclick=\"convertToInteractive('df-3961f4b3-1e8e-4b78-910f-4b6db8c6c674')\"\n",
              "              title=\"Convert this dataframe to an interactive table.\"\n",
              "              style=\"display:none;\">\n",
              "        \n",
              "  <svg xmlns=\"http://www.w3.org/2000/svg\" height=\"24px\"viewBox=\"0 0 24 24\"\n",
              "       width=\"24px\">\n",
              "    <path d=\"M0 0h24v24H0V0z\" fill=\"none\"/>\n",
              "    <path d=\"M18.56 5.44l.94 2.06.94-2.06 2.06-.94-2.06-.94-.94-2.06-.94 2.06-2.06.94zm-11 1L8.5 8.5l.94-2.06 2.06-.94-2.06-.94L8.5 2.5l-.94 2.06-2.06.94zm10 10l.94 2.06.94-2.06 2.06-.94-2.06-.94-.94-2.06-.94 2.06-2.06.94z\"/><path d=\"M17.41 7.96l-1.37-1.37c-.4-.4-.92-.59-1.43-.59-.52 0-1.04.2-1.43.59L10.3 9.45l-7.72 7.72c-.78.78-.78 2.05 0 2.83L4 21.41c.39.39.9.59 1.41.59.51 0 1.02-.2 1.41-.59l7.78-7.78 2.81-2.81c.8-.78.8-2.07 0-2.86zM5.41 20L4 18.59l7.72-7.72 1.47 1.35L5.41 20z\"/>\n",
              "  </svg>\n",
              "      </button>\n",
              "      \n",
              "  <style>\n",
              "    .colab-df-container {\n",
              "      display:flex;\n",
              "      flex-wrap:wrap;\n",
              "      gap: 12px;\n",
              "    }\n",
              "\n",
              "    .colab-df-convert {\n",
              "      background-color: #E8F0FE;\n",
              "      border: none;\n",
              "      border-radius: 50%;\n",
              "      cursor: pointer;\n",
              "      display: none;\n",
              "      fill: #1967D2;\n",
              "      height: 32px;\n",
              "      padding: 0 0 0 0;\n",
              "      width: 32px;\n",
              "    }\n",
              "\n",
              "    .colab-df-convert:hover {\n",
              "      background-color: #E2EBFA;\n",
              "      box-shadow: 0px 1px 2px rgba(60, 64, 67, 0.3), 0px 1px 3px 1px rgba(60, 64, 67, 0.15);\n",
              "      fill: #174EA6;\n",
              "    }\n",
              "\n",
              "    [theme=dark] .colab-df-convert {\n",
              "      background-color: #3B4455;\n",
              "      fill: #D2E3FC;\n",
              "    }\n",
              "\n",
              "    [theme=dark] .colab-df-convert:hover {\n",
              "      background-color: #434B5C;\n",
              "      box-shadow: 0px 1px 3px 1px rgba(0, 0, 0, 0.15);\n",
              "      filter: drop-shadow(0px 1px 2px rgba(0, 0, 0, 0.3));\n",
              "      fill: #FFFFFF;\n",
              "    }\n",
              "  </style>\n",
              "\n",
              "      <script>\n",
              "        const buttonEl =\n",
              "          document.querySelector('#df-3961f4b3-1e8e-4b78-910f-4b6db8c6c674 button.colab-df-convert');\n",
              "        buttonEl.style.display =\n",
              "          google.colab.kernel.accessAllowed ? 'block' : 'none';\n",
              "\n",
              "        async function convertToInteractive(key) {\n",
              "          const element = document.querySelector('#df-3961f4b3-1e8e-4b78-910f-4b6db8c6c674');\n",
              "          const dataTable =\n",
              "            await google.colab.kernel.invokeFunction('convertToInteractive',\n",
              "                                                     [key], {});\n",
              "          if (!dataTable) return;\n",
              "\n",
              "          const docLinkHtml = 'Like what you see? Visit the ' +\n",
              "            '<a target=\"_blank\" href=https://colab.research.google.com/notebooks/data_table.ipynb>data table notebook</a>'\n",
              "            + ' to learn more about interactive tables.';\n",
              "          element.innerHTML = '';\n",
              "          dataTable['output_type'] = 'display_data';\n",
              "          await google.colab.output.renderOutput(dataTable, element);\n",
              "          const docLink = document.createElement('div');\n",
              "          docLink.innerHTML = docLinkHtml;\n",
              "          element.appendChild(docLink);\n",
              "        }\n",
              "      </script>\n",
              "    </div>\n",
              "  </div>\n",
              "  "
            ],
            "text/plain": [
              "   Pregnancies  Glucose  BloodPressure  SkinThickness  Insulin   BMI  \\\n",
              "0            6      148             72             35        0  33.6   \n",
              "1            1       85             66             29        0  26.6   \n",
              "2            8      183             64              0        0  23.3   \n",
              "3            1       89             66             23       94  28.1   \n",
              "4            0      137             40             35      168  43.1   \n",
              "\n",
              "   DiabetesPedigreeFunction  Age  Outcome  \n",
              "0                     0.627   50        1  \n",
              "1                     0.351   31        0  \n",
              "2                     0.672   32        1  \n",
              "3                     0.167   21        0  \n",
              "4                     2.288   33        1  "
            ]
          },
          "execution_count": 2,
          "metadata": {},
          "output_type": "execute_result"
        }
      ],
      "source": [
        "df = pd.read_csv(\"diabetes.csv\")\n",
        "df.head()"
      ]
    },
    {
      "cell_type": "markdown",
      "metadata": {
        "id": "rDLTaKwpyScZ"
      },
      "source": [
        "# ***Exploratory Data Analysis***"
      ]
    },
    {
      "cell_type": "code",
      "execution_count": null,
      "metadata": {
        "colab": {
          "base_uri": "https://localhost:8080/"
        },
        "id": "Dzk3lPYZCRSI",
        "outputId": "bd9866fc-d6a0-44d5-b2b0-d29c42053bfd"
      },
      "outputs": [
        {
          "name": "stdout",
          "output_type": "stream",
          "text": [
            "<class 'pandas.core.frame.DataFrame'>\n",
            "RangeIndex: 768 entries, 0 to 767\n",
            "Data columns (total 9 columns):\n",
            " #   Column                    Non-Null Count  Dtype  \n",
            "---  ------                    --------------  -----  \n",
            " 0   Pregnancies               768 non-null    int64  \n",
            " 1   Glucose                   768 non-null    int64  \n",
            " 2   BloodPressure             768 non-null    int64  \n",
            " 3   SkinThickness             768 non-null    int64  \n",
            " 4   Insulin                   768 non-null    int64  \n",
            " 5   BMI                       768 non-null    float64\n",
            " 6   DiabetesPedigreeFunction  768 non-null    float64\n",
            " 7   Age                       768 non-null    int64  \n",
            " 8   Outcome                   768 non-null    int64  \n",
            "dtypes: float64(2), int64(7)\n",
            "memory usage: 54.1 KB\n"
          ]
        }
      ],
      "source": [
        "df.info()"
      ]
    },
    {
      "cell_type": "code",
      "execution_count": null,
      "metadata": {
        "colab": {
          "base_uri": "https://localhost:8080/"
        },
        "id": "NDEVmmaOCTcb",
        "outputId": "a609d3fe-da3a-47ea-f056-fe720b3a4692"
      },
      "outputs": [
        {
          "data": {
            "text/plain": [
              "Pregnancies                 0\n",
              "Glucose                     0\n",
              "BloodPressure               0\n",
              "SkinThickness               0\n",
              "Insulin                     0\n",
              "BMI                         0\n",
              "DiabetesPedigreeFunction    0\n",
              "Age                         0\n",
              "Outcome                     0\n",
              "dtype: int64"
            ]
          },
          "execution_count": 4,
          "metadata": {},
          "output_type": "execute_result"
        }
      ],
      "source": [
        "df.isnull().sum()"
      ]
    },
    {
      "cell_type": "code",
      "execution_count": null,
      "metadata": {
        "colab": {
          "base_uri": "https://localhost:8080/",
          "height": 300
        },
        "id": "slRIcu4XCVgq",
        "outputId": "44a3b6eb-573d-46cd-9ef7-57794ae3e249"
      },
      "outputs": [
        {
          "data": {
            "text/html": [
              "\n",
              "  <div id=\"df-47ddc76a-66a8-41e4-b862-a992a2cb7532\">\n",
              "    <div class=\"colab-df-container\">\n",
              "      <div>\n",
              "<style scoped>\n",
              "    .dataframe tbody tr th:only-of-type {\n",
              "        vertical-align: middle;\n",
              "    }\n",
              "\n",
              "    .dataframe tbody tr th {\n",
              "        vertical-align: top;\n",
              "    }\n",
              "\n",
              "    .dataframe thead th {\n",
              "        text-align: right;\n",
              "    }\n",
              "</style>\n",
              "<table border=\"1\" class=\"dataframe\">\n",
              "  <thead>\n",
              "    <tr style=\"text-align: right;\">\n",
              "      <th></th>\n",
              "      <th>Pregnancies</th>\n",
              "      <th>Glucose</th>\n",
              "      <th>BloodPressure</th>\n",
              "      <th>SkinThickness</th>\n",
              "      <th>Insulin</th>\n",
              "      <th>BMI</th>\n",
              "      <th>DiabetesPedigreeFunction</th>\n",
              "      <th>Age</th>\n",
              "      <th>Outcome</th>\n",
              "    </tr>\n",
              "  </thead>\n",
              "  <tbody>\n",
              "    <tr>\n",
              "      <th>count</th>\n",
              "      <td>768.00</td>\n",
              "      <td>768.00</td>\n",
              "      <td>768.00</td>\n",
              "      <td>768.00</td>\n",
              "      <td>768.00</td>\n",
              "      <td>768.00</td>\n",
              "      <td>768.00</td>\n",
              "      <td>768.00</td>\n",
              "      <td>768.00</td>\n",
              "    </tr>\n",
              "    <tr>\n",
              "      <th>mean</th>\n",
              "      <td>3.85</td>\n",
              "      <td>120.89</td>\n",
              "      <td>69.11</td>\n",
              "      <td>20.54</td>\n",
              "      <td>79.80</td>\n",
              "      <td>31.99</td>\n",
              "      <td>0.47</td>\n",
              "      <td>33.24</td>\n",
              "      <td>0.35</td>\n",
              "    </tr>\n",
              "    <tr>\n",
              "      <th>std</th>\n",
              "      <td>3.37</td>\n",
              "      <td>31.97</td>\n",
              "      <td>19.36</td>\n",
              "      <td>15.95</td>\n",
              "      <td>115.24</td>\n",
              "      <td>7.88</td>\n",
              "      <td>0.33</td>\n",
              "      <td>11.76</td>\n",
              "      <td>0.48</td>\n",
              "    </tr>\n",
              "    <tr>\n",
              "      <th>min</th>\n",
              "      <td>0.00</td>\n",
              "      <td>0.00</td>\n",
              "      <td>0.00</td>\n",
              "      <td>0.00</td>\n",
              "      <td>0.00</td>\n",
              "      <td>0.00</td>\n",
              "      <td>0.08</td>\n",
              "      <td>21.00</td>\n",
              "      <td>0.00</td>\n",
              "    </tr>\n",
              "    <tr>\n",
              "      <th>25%</th>\n",
              "      <td>1.00</td>\n",
              "      <td>99.00</td>\n",
              "      <td>62.00</td>\n",
              "      <td>0.00</td>\n",
              "      <td>0.00</td>\n",
              "      <td>27.30</td>\n",
              "      <td>0.24</td>\n",
              "      <td>24.00</td>\n",
              "      <td>0.00</td>\n",
              "    </tr>\n",
              "    <tr>\n",
              "      <th>50%</th>\n",
              "      <td>3.00</td>\n",
              "      <td>117.00</td>\n",
              "      <td>72.00</td>\n",
              "      <td>23.00</td>\n",
              "      <td>30.50</td>\n",
              "      <td>32.00</td>\n",
              "      <td>0.37</td>\n",
              "      <td>29.00</td>\n",
              "      <td>0.00</td>\n",
              "    </tr>\n",
              "    <tr>\n",
              "      <th>75%</th>\n",
              "      <td>6.00</td>\n",
              "      <td>140.25</td>\n",
              "      <td>80.00</td>\n",
              "      <td>32.00</td>\n",
              "      <td>127.25</td>\n",
              "      <td>36.60</td>\n",
              "      <td>0.63</td>\n",
              "      <td>41.00</td>\n",
              "      <td>1.00</td>\n",
              "    </tr>\n",
              "    <tr>\n",
              "      <th>max</th>\n",
              "      <td>17.00</td>\n",
              "      <td>199.00</td>\n",
              "      <td>122.00</td>\n",
              "      <td>99.00</td>\n",
              "      <td>846.00</td>\n",
              "      <td>67.10</td>\n",
              "      <td>2.42</td>\n",
              "      <td>81.00</td>\n",
              "      <td>1.00</td>\n",
              "    </tr>\n",
              "  </tbody>\n",
              "</table>\n",
              "</div>\n",
              "      <button class=\"colab-df-convert\" onclick=\"convertToInteractive('df-47ddc76a-66a8-41e4-b862-a992a2cb7532')\"\n",
              "              title=\"Convert this dataframe to an interactive table.\"\n",
              "              style=\"display:none;\">\n",
              "        \n",
              "  <svg xmlns=\"http://www.w3.org/2000/svg\" height=\"24px\"viewBox=\"0 0 24 24\"\n",
              "       width=\"24px\">\n",
              "    <path d=\"M0 0h24v24H0V0z\" fill=\"none\"/>\n",
              "    <path d=\"M18.56 5.44l.94 2.06.94-2.06 2.06-.94-2.06-.94-.94-2.06-.94 2.06-2.06.94zm-11 1L8.5 8.5l.94-2.06 2.06-.94-2.06-.94L8.5 2.5l-.94 2.06-2.06.94zm10 10l.94 2.06.94-2.06 2.06-.94-2.06-.94-.94-2.06-.94 2.06-2.06.94z\"/><path d=\"M17.41 7.96l-1.37-1.37c-.4-.4-.92-.59-1.43-.59-.52 0-1.04.2-1.43.59L10.3 9.45l-7.72 7.72c-.78.78-.78 2.05 0 2.83L4 21.41c.39.39.9.59 1.41.59.51 0 1.02-.2 1.41-.59l7.78-7.78 2.81-2.81c.8-.78.8-2.07 0-2.86zM5.41 20L4 18.59l7.72-7.72 1.47 1.35L5.41 20z\"/>\n",
              "  </svg>\n",
              "      </button>\n",
              "      \n",
              "  <style>\n",
              "    .colab-df-container {\n",
              "      display:flex;\n",
              "      flex-wrap:wrap;\n",
              "      gap: 12px;\n",
              "    }\n",
              "\n",
              "    .colab-df-convert {\n",
              "      background-color: #E8F0FE;\n",
              "      border: none;\n",
              "      border-radius: 50%;\n",
              "      cursor: pointer;\n",
              "      display: none;\n",
              "      fill: #1967D2;\n",
              "      height: 32px;\n",
              "      padding: 0 0 0 0;\n",
              "      width: 32px;\n",
              "    }\n",
              "\n",
              "    .colab-df-convert:hover {\n",
              "      background-color: #E2EBFA;\n",
              "      box-shadow: 0px 1px 2px rgba(60, 64, 67, 0.3), 0px 1px 3px 1px rgba(60, 64, 67, 0.15);\n",
              "      fill: #174EA6;\n",
              "    }\n",
              "\n",
              "    [theme=dark] .colab-df-convert {\n",
              "      background-color: #3B4455;\n",
              "      fill: #D2E3FC;\n",
              "    }\n",
              "\n",
              "    [theme=dark] .colab-df-convert:hover {\n",
              "      background-color: #434B5C;\n",
              "      box-shadow: 0px 1px 3px 1px rgba(0, 0, 0, 0.15);\n",
              "      filter: drop-shadow(0px 1px 2px rgba(0, 0, 0, 0.3));\n",
              "      fill: #FFFFFF;\n",
              "    }\n",
              "  </style>\n",
              "\n",
              "      <script>\n",
              "        const buttonEl =\n",
              "          document.querySelector('#df-47ddc76a-66a8-41e4-b862-a992a2cb7532 button.colab-df-convert');\n",
              "        buttonEl.style.display =\n",
              "          google.colab.kernel.accessAllowed ? 'block' : 'none';\n",
              "\n",
              "        async function convertToInteractive(key) {\n",
              "          const element = document.querySelector('#df-47ddc76a-66a8-41e4-b862-a992a2cb7532');\n",
              "          const dataTable =\n",
              "            await google.colab.kernel.invokeFunction('convertToInteractive',\n",
              "                                                     [key], {});\n",
              "          if (!dataTable) return;\n",
              "\n",
              "          const docLinkHtml = 'Like what you see? Visit the ' +\n",
              "            '<a target=\"_blank\" href=https://colab.research.google.com/notebooks/data_table.ipynb>data table notebook</a>'\n",
              "            + ' to learn more about interactive tables.';\n",
              "          element.innerHTML = '';\n",
              "          dataTable['output_type'] = 'display_data';\n",
              "          await google.colab.output.renderOutput(dataTable, element);\n",
              "          const docLink = document.createElement('div');\n",
              "          docLink.innerHTML = docLinkHtml;\n",
              "          element.appendChild(docLink);\n",
              "        }\n",
              "      </script>\n",
              "    </div>\n",
              "  </div>\n",
              "  "
            ],
            "text/plain": [
              "       Pregnancies  Glucose  BloodPressure  SkinThickness  Insulin    BMI  \\\n",
              "count       768.00   768.00         768.00         768.00   768.00 768.00   \n",
              "mean          3.85   120.89          69.11          20.54    79.80  31.99   \n",
              "std           3.37    31.97          19.36          15.95   115.24   7.88   \n",
              "min           0.00     0.00           0.00           0.00     0.00   0.00   \n",
              "25%           1.00    99.00          62.00           0.00     0.00  27.30   \n",
              "50%           3.00   117.00          72.00          23.00    30.50  32.00   \n",
              "75%           6.00   140.25          80.00          32.00   127.25  36.60   \n",
              "max          17.00   199.00         122.00          99.00   846.00  67.10   \n",
              "\n",
              "       DiabetesPedigreeFunction    Age  Outcome  \n",
              "count                    768.00 768.00   768.00  \n",
              "mean                       0.47  33.24     0.35  \n",
              "std                        0.33  11.76     0.48  \n",
              "min                        0.08  21.00     0.00  \n",
              "25%                        0.24  24.00     0.00  \n",
              "50%                        0.37  29.00     0.00  \n",
              "75%                        0.63  41.00     1.00  \n",
              "max                        2.42  81.00     1.00  "
            ]
          },
          "execution_count": 5,
          "metadata": {},
          "output_type": "execute_result"
        }
      ],
      "source": [
        "pd.set_option('display.float_format', '{:.2f}'.format)\n",
        "df.describe()"
      ]
    },
    {
      "cell_type": "markdown",
      "metadata": {
        "id": "HvNQZXXBDv2s"
      },
      "source": [
        "# ***Correlation Analysis***"
      ]
    },
    {
      "cell_type": "code",
      "execution_count": null,
      "metadata": {
        "colab": {
          "base_uri": "https://localhost:8080/",
          "height": 825
        },
        "id": "mo56dOeND2Vc",
        "outputId": "eb34c406-6104-4c96-d8d9-eb7c2a97cd76"
      },
      "outputs": [
        {
          "data": {
            "image/png": "[encoded data removed]",
            "text/plain": [
              "<Figure size 864x864 with 2 Axes>"
            ]
          },
          "metadata": {},
          "output_type": "display_data"
        }
      ],
      "source": [
        "fig, ax = plt.subplots(figsize=(12, 12))\n",
        "sns.heatmap(df.corr(),vmin=-1, vmax=1,annot=True,cmap=\"PiYG\", ax=ax)\n",
        "plt.show()"
      ]
    },
    {
      "cell_type": "markdown",
      "metadata": {
        "id": "R63zVGrPzAPz"
      },
      "source": [
        "# ***Data Visuallization***"
      ]
    },
    {
      "cell_type": "code",
      "execution_count": null,
      "metadata": {
        "colab": {
          "base_uri": "https://localhost:8080/",
          "height": 1035
        },
        "id": "rCs-cTAw0YTC",
        "outputId": "834a3a42-834a-4e8e-f4ce-0ddbe8359bdd"
      },
      "outputs": [
        {
          "data": {
            "text/plain": [
              "array([[<AxesSubplot:title={'center':'Pregnancies'}>,\n",
              "        <AxesSubplot:title={'center':'Glucose'}>,\n",
              "        <AxesSubplot:title={'center':'BloodPressure'}>],\n",
              "       [<AxesSubplot:title={'center':'SkinThickness'}>,\n",
              "        <AxesSubplot:title={'center':'Insulin'}>,\n",
              "        <AxesSubplot:title={'center':'BMI'}>],\n",
              "       [<AxesSubplot:title={'center':'DiabetesPedigreeFunction'}>,\n",
              "        <AxesSubplot:title={'center':'Age'}>,\n",
              "        <AxesSubplot:title={'center':'Outcome'}>]], dtype=object)"
            ]
          },
          "execution_count": 8,
          "metadata": {},
          "output_type": "execute_result"
        },
        {
          "data": {
            "image/png": "[encoded data removed]",
            "text/plain": [
              "<Figure size 1080x1080 with 9 Axes>"
            ]
          },
          "metadata": {},
          "output_type": "display_data"
        }
      ],
      "source": [
        "df.hist(figsize = (15,15),grid=True, color='hotpink')"
      ]
    },
    {
      "cell_type": "code",
      "execution_count": null,
      "metadata": {
        "colab": {
          "base_uri": "https://localhost:8080/",
          "height": 863
        },
        "id": "v_wtY9ss0JGl",
        "outputId": "3a09a770-f820-4b3a-dec5-2d0381a28b2e"
      },
      "outputs": [
        {
          "data": {
            "image/png": "[encoded data removed]",
            "text/plain": [
              "<Figure size 1080x1080 with 9 Axes>"
            ]
          },
          "metadata": {},
          "output_type": "display_data"
        }
      ],
      "source": [
        "df.plot(kind= 'box' , subplots=True, layout=(3,3), sharex=False, sharey=False, figsize=(15,15))\n",
        "sns.set(font_scale = 1.5)"
      ]
    },
    {
      "cell_type": "code",
      "execution_count": null,
      "metadata": {
        "colab": {
          "base_uri": "https://localhost:8080/",
          "height": 1101
        },
        "id": "JunlGwHBy-DB",
        "outputId": "24f47e81-709c-4b24-e0c9-05be4c2d1f12"
      },
      "outputs": [
        {
          "name": "stderr",
          "output_type": "stream",
          "text": [
            "/usr/local/lib/python3.9/dist-packages/seaborn/distributions.py:2619: FutureWarning: `distplot` is a deprecated function and will be removed in a future version. Please adapt your code to use either `displot` (a figure-level function with similar flexibility) or `histplot` (an axes-level function for histograms).\n",
            "  warnings.warn(msg, FutureWarning)\n",
            "/usr/local/lib/python3.9/dist-packages/seaborn/distributions.py:2619: FutureWarning: `distplot` is a deprecated function and will be removed in a future version. Please adapt your code to use either `displot` (a figure-level function with similar flexibility) or `histplot` (an axes-level function for histograms).\n",
            "  warnings.warn(msg, FutureWarning)\n",
            "/usr/local/lib/python3.9/dist-packages/seaborn/distributions.py:2619: FutureWarning: `distplot` is a deprecated function and will be removed in a future version. Please adapt your code to use either `displot` (a figure-level function with similar flexibility) or `histplot` (an axes-level function for histograms).\n",
            "  warnings.warn(msg, FutureWarning)\n",
            "/usr/local/lib/python3.9/dist-packages/seaborn/distributions.py:2619: FutureWarning: `distplot` is a deprecated function and will be removed in a future version. Please adapt your code to use either `displot` (a figure-level function with similar flexibility) or `histplot` (an axes-level function for histograms).\n",
            "  warnings.warn(msg, FutureWarning)\n",
            "/usr/local/lib/python3.9/dist-packages/seaborn/distributions.py:2619: FutureWarning: `distplot` is a deprecated function and will be removed in a future version. Please adapt your code to use either `displot` (a figure-level function with similar flexibility) or `histplot` (an axes-level function for histograms).\n",
            "  warnings.warn(msg, FutureWarning)\n",
            "/usr/local/lib/python3.9/dist-packages/seaborn/distributions.py:2619: FutureWarning: `distplot` is a deprecated function and will be removed in a future version. Please adapt your code to use either `displot` (a figure-level function with similar flexibility) or `histplot` (an axes-level function for histograms).\n",
            "  warnings.warn(msg, FutureWarning)\n",
            "/usr/local/lib/python3.9/dist-packages/seaborn/distributions.py:2619: FutureWarning: `distplot` is a deprecated function and will be removed in a future version. Please adapt your code to use either `displot` (a figure-level function with similar flexibility) or `histplot` (an axes-level function for histograms).\n",
            "  warnings.warn(msg, FutureWarning)\n",
            "/usr/local/lib/python3.9/dist-packages/seaborn/distributions.py:2619: FutureWarning: `distplot` is a deprecated function and will be removed in a future version. Please adapt your code to use either `displot` (a figure-level function with similar flexibility) or `histplot` (an axes-level function for histograms).\n",
            "  warnings.warn(msg, FutureWarning)\n"
          ]
        },
        {
          "data": {
            "text/plain": [
              "<AxesSubplot:xlabel='Outcome', ylabel='Density'>"
            ]
          },
          "execution_count": 10,
          "metadata": {},
          "output_type": "execute_result"
        },
        {
          "data": {
            "image/png": "[encoded data removed]",
            "text/plain": [
              "<Figure size 1080x1080 with 8 Axes>"
            ]
          },
          "metadata": {},
          "output_type": "display_data"
        }
      ],
      "source": [
        "fig, ax = plt.subplots(4,2, figsize=(15,15))\n",
        "sns.set(font_scale = 1)\n",
        "sns.distplot(df.Glucose,ax = ax[0,0],color ='orange')\n",
        "sns.distplot(df.BloodPressure,ax = ax[0,1],color ='red')\n",
        "sns.distplot(df.SkinThickness,ax = ax[1,0], color ='seagreen')\n",
        "sns.distplot(df.Age,ax = ax[1,1],color ='purple')\n",
        "sns.distplot(df.Insulin,ax = ax[2,0],color ='deeppink')\n",
        "sns.distplot(df.BMI,ax = ax[2,1],color ='brown')\n",
        "sns.distplot(df.DiabetesPedigreeFunction,ax = ax[3,0],color ='royalblue')\n",
        "sns.distplot(df.Outcome,ax = ax[3,1],color ='yellow')\n"
      ]
    },
    {
      "cell_type": "markdown",
      "metadata": {
        "id": "3tFi7ld1yWGx"
      },
      "source": [
        "# ***Preprocessing***"
      ]
    },
    {
      "cell_type": "code",
      "execution_count": null,
      "metadata": {
        "colab": {
          "base_uri": "https://localhost:8080/"
        },
        "id": "CaD55V6ICZc8",
        "outputId": "b444e85c-8d1c-42e0-9f0c-251501212808"
      },
      "outputs": [
        {
          "data": {
            "text/plain": [
              "Index(['Pregnancies', 'Glucose', 'BloodPressure', 'SkinThickness', 'Insulin',\n",
              "       'BMI', 'DiabetesPedigreeFunction', 'Age', 'Outcome'],\n",
              "      dtype='object')"
            ]
          },
          "execution_count": 11,
          "metadata": {},
          "output_type": "execute_result"
        }
      ],
      "source": [
        "df.columns"
      ]
    },
    {
      "cell_type": "code",
      "execution_count": null,
      "metadata": {
        "colab": {
          "base_uri": "https://localhost:8080/"
        },
        "id": "0nCM93UyCbno",
        "outputId": "6fb2dd22-49fb-4599-c06d-66a3cde63b9b"
      },
      "outputs": [
        {
          "name": "stdout",
          "output_type": "stream",
          "text": [
            "============================================\n",
            "Pregnancies ==> Missing zeros : 111\n",
            "============================================\n",
            "Glucose ==> Missing zeros : 5\n",
            "============================================\n",
            "BloodPressure ==> Missing zeros : 35\n",
            "============================================\n",
            "SkinThickness ==> Missing zeros : 227\n",
            "============================================\n",
            "Insulin ==> Missing zeros : 374\n",
            "============================================\n",
            "BMI ==> Missing zeros : 11\n",
            "============================================\n",
            "DiabetesPedigreeFunction ==> Missing zeros : 0\n",
            "============================================\n",
            "Age ==> Missing zeros : 0\n"
          ]
        }
      ],
      "source": [
        "# How many missing zeros are mising in each feature\n",
        "feature_columns = [\n",
        "    'Pregnancies', 'Glucose', 'BloodPressure', 'SkinThickness', \n",
        "    'Insulin', 'BMI', 'DiabetesPedigreeFunction', 'Age'\n",
        "]\n",
        "\n",
        "for column in feature_columns:\n",
        "    print(\"============================================\")\n",
        "    print(f\"{column} ==> Missing zeros : {len(df.loc[df[column] == 0])}\")"
      ]
    },
    {
      "cell_type": "code",
      "execution_count": null,
      "metadata": {
        "colab": {
          "base_uri": "https://localhost:8080/"
        },
        "id": "SC3FL8ELCdwQ",
        "outputId": "d30b55b4-1ede-4d13-b043-1258b5935fc7"
      },
      "outputs": [
        {
          "name": "stdout",
          "output_type": "stream",
          "text": [
            "============================================\n",
            "Pregnancies ==> Missing zeros : 0\n",
            "============================================\n",
            "Glucose ==> Missing zeros : 0\n",
            "============================================\n",
            "BloodPressure ==> Missing zeros : 0\n",
            "============================================\n",
            "SkinThickness ==> Missing zeros : 0\n",
            "============================================\n",
            "Insulin ==> Missing zeros : 0\n",
            "============================================\n",
            "BMI ==> Missing zeros : 0\n",
            "============================================\n",
            "DiabetesPedigreeFunction ==> Missing zeros : 0\n",
            "============================================\n",
            "Age ==> Missing zeros : 0\n"
          ]
        }
      ],
      "source": [
        "from sklearn.impute import SimpleImputer\n",
        "\n",
        "\n",
        "fill_values = SimpleImputer(missing_values=0, strategy=\"mean\", copy=False)\n",
        "df[feature_columns] = fill_values.fit_transform(df[feature_columns])\n",
        "\n",
        "for column in feature_columns:\n",
        "    print(\"============================================\")\n",
        "    print(f\"{column} ==> Missing zeros : {len(df.loc[df[column] == 0])}\")"
      ]
    },
    {
      "cell_type": "code",
      "execution_count": null,
      "metadata": {
        "id": "GkjScIfpCgwB"
      },
      "outputs": [],
      "source": [
        "from sklearn.model_selection import train_test_split\n",
        "\n",
        "\n",
        "X = df[feature_columns]\n",
        "y = df.Outcome\n",
        "\n",
        "X_train, X_test, y_train, y_test = train_test_split(X, y, test_size=0.1, random_state=0)"
      ]
    },
    {
      "cell_type": "code",
      "execution_count": null,
      "metadata": {
        "id": "Eog7GK2CCj7Y"
      },
      "outputs": [],
      "source": [
        "from sklearn.metrics import confusion_matrix, accuracy_score, classification_report, f1_score, recall_score, precision_score\n",
        "\n",
        "\n",
        "\n",
        "def evaluate(model, X_train, X_test, y_train, y_test):\n",
        "    y_test_pred = model.predict(X_test)\n",
        "    y_train_pred = model.predict(X_train)\n",
        "\n",
        "    print(\"\\nTRAINIG RESULTS: \\n===============================\")\n",
        "    clf_report = pd.DataFrame(classification_report(y_train, y_train_pred, output_dict=True))\n",
        "    print(f\"\\nCONFUSION MATRIX:\\n{confusion_matrix(y_train, y_train_pred)}\")\n",
        "    print(f\"\\nF1-SCORE:\\n{f1_score(y_train, y_train_pred)}\")\n",
        "    print(f\"\\nRECALL SCORE:\\n{recall_score(y_train, y_train_pred)}\")\n",
        "    print(f\"\\nPRECISION SCORE:\\n{precision_score(y_train, y_train_pred)}\")\n",
        "    print(f\"\\nACCURACY SCORE:\\n{accuracy_score(y_train, y_train_pred):.4f}\")\n",
        "    print(f\"\\nCLASSIFICATION REPORT:\\n{clf_report}\")\n",
        "\n",
        "    print(\"\\n\\nTESTING RESULTS: \\n===============================\")\n",
        "    clf_report = pd.DataFrame(classification_report(y_test, y_test_pred, output_dict=True))\n",
        "    print(f\"\\nCONFUSION MATRIX:\\n{confusion_matrix(y_test, y_test_pred)}\")\n",
        "    print(f\"\\nF1-SCORE:\\n{f1_score(y_test, y_test_pred)}\")\n",
        "    print(f\"\\nRECALL SCORE:\\n{recall_score(y_test, y_test_pred)}\")\n",
        "    print(f\"\\nPRECISION SCORE:\\n{precision_score(y_test, y_test_pred)}\")\n",
        "    print(f\"\\nACCURACY SCORE:\\n{accuracy_score(y_test, y_test_pred):.4f}\")\n",
        "    print(f\"\\nCLASSIFICATION REPORT:\\n{clf_report}\")"
      ]
    },
    {
      "cell_type": "markdown",
      "metadata": {
        "id": "sCUZMnExycXv"
      },
      "source": [
        "# ***Create Models***"
      ]
    },
    {
      "cell_type": "code",
      "execution_count": null,
      "metadata": {
        "colab": {
          "base_uri": "https://localhost:8080/"
        },
        "id": "-v04Eda1Colf",
        "outputId": "b5346e1b-290e-405e-dd28-b45bb26e9a92"
      },
      "outputs": [
        {
          "name": "stdout",
          "output_type": "stream",
          "text": [
            "\n",
            "TRAINIG RESULTS: \n",
            "===============================\n",
            "\n",
            "CONFUSION MATRIX:\n",
            "[[449   0]\n",
            " [  0 242]]\n",
            "\n",
            "F1-SCORE:\n",
            "1.0\n",
            "\n",
            "RECALL SCORE:\n",
            "1.0\n",
            "\n",
            "PRECISION SCORE:\n",
            "1.0\n",
            "\n",
            "ACCURACY SCORE:\n",
            "1.0000\n",
            "\n",
            "CLASSIFICATION REPORT:\n",
            "               0      1  accuracy  macro avg  weighted avg\n",
            "precision   1.00   1.00      1.00       1.00          1.00\n",
            "recall      1.00   1.00      1.00       1.00          1.00\n",
            "f1-score    1.00   1.00      1.00       1.00          1.00\n",
            "support   449.00 242.00      1.00     691.00        691.00\n",
            "\n",
            "\n",
            "TESTING RESULTS: \n",
            "===============================\n",
            "\n",
            "CONFUSION MATRIX:\n",
            "[[41 10]\n",
            " [ 9 17]]\n",
            "\n",
            "F1-SCORE:\n",
            "0.6415094339622641\n",
            "\n",
            "RECALL SCORE:\n",
            "0.6538461538461539\n",
            "\n",
            "PRECISION SCORE:\n",
            "0.6296296296296297\n",
            "\n",
            "ACCURACY SCORE:\n",
            "0.7532\n",
            "\n",
            "CLASSIFICATION REPORT:\n",
            "              0     1  accuracy  macro avg  weighted avg\n",
            "precision  0.82  0.63      0.75       0.72          0.76\n",
            "recall     0.80  0.65      0.75       0.73          0.75\n",
            "f1-score   0.81  0.64      0.75       0.73          0.75\n",
            "support   51.00 26.00      0.75      77.00         77.00\n"
          ]
        }
      ],
      "source": [
        "from sklearn.tree import DecisionTreeClassifier\n",
        "\n",
        "model1 = DecisionTreeClassifier()\n",
        "model1.fit(X_train, y_train)\n",
        "y_pred1 = model1.predict(X_test)\n",
        "\n",
        "evaluate(model1, X_train, X_test, y_train, y_test)"
      ]
    },
    {
      "cell_type": "code",
      "execution_count": null,
      "metadata": {
        "colab": {
          "base_uri": "https://localhost:8080/"
        },
        "id": "6uBdKdH2EMRE",
        "outputId": "c3589e27-1e5d-426a-9212-71fca04035c8"
      },
      "outputs": [
        {
          "name": "stdout",
          "output_type": "stream",
          "text": [
            "\n",
            "TRAINIG RESULTS: \n",
            "===============================\n",
            "\n",
            "CONFUSION MATRIX:\n",
            "[[372  77]\n",
            " [ 99 143]]\n",
            "\n",
            "F1-SCORE:\n",
            "0.6190476190476191\n",
            "\n",
            "RECALL SCORE:\n",
            "0.5909090909090909\n",
            "\n",
            "PRECISION SCORE:\n",
            "0.65\n",
            "\n",
            "ACCURACY SCORE:\n",
            "0.7453\n",
            "\n",
            "CLASSIFICATION REPORT:\n",
            "               0      1  accuracy  macro avg  weighted avg\n",
            "precision   0.79   0.65      0.75       0.72          0.74\n",
            "recall      0.83   0.59      0.75       0.71          0.75\n",
            "f1-score    0.81   0.62      0.75       0.71          0.74\n",
            "support   449.00 242.00      0.75     691.00        691.00\n",
            "\n",
            "\n",
            "TESTING RESULTS: \n",
            "===============================\n",
            "\n",
            "CONFUSION MATRIX:\n",
            "[[45  6]\n",
            " [ 7 19]]\n",
            "\n",
            "F1-SCORE:\n",
            "0.7450980392156863\n",
            "\n",
            "RECALL SCORE:\n",
            "0.7307692307692307\n",
            "\n",
            "PRECISION SCORE:\n",
            "0.76\n",
            "\n",
            "ACCURACY SCORE:\n",
            "0.8312\n",
            "\n",
            "CLASSIFICATION REPORT:\n",
            "              0     1  accuracy  macro avg  weighted avg\n",
            "precision  0.87  0.76      0.83       0.81          0.83\n",
            "recall     0.88  0.73      0.83       0.81          0.83\n",
            "f1-score   0.87  0.75      0.83       0.81          0.83\n",
            "support   51.00 26.00      0.83      77.00         77.00\n"
          ]
        }
      ],
      "source": [
        "from sklearn.naive_bayes import GaussianNB\n",
        "\n",
        "model2 = GaussianNB()\n",
        "model2.fit(X_train, y_train)\n",
        "y_pred2 = model2.predict(X_test)\n",
        "\n",
        "evaluate(model2, X_train, X_test, y_train, y_test)"
      ]
    },
    {
      "cell_type": "code",
      "execution_count": null,
      "metadata": {
        "colab": {
          "base_uri": "https://localhost:8080/"
        },
        "id": "80EFM7g6E1iF",
        "outputId": "9b69149a-ec53-4e51-a1c0-179cf8b24be7"
      },
      "outputs": [
        {
          "name": "stdout",
          "output_type": "stream",
          "text": [
            "\n",
            "TRAINIG RESULTS: \n",
            "===============================\n",
            "\n",
            "CONFUSION MATRIX:\n",
            "[[449   0]\n",
            " [  0 242]]\n",
            "\n",
            "F1-SCORE:\n",
            "1.0\n",
            "\n",
            "RECALL SCORE:\n",
            "1.0\n",
            "\n",
            "PRECISION SCORE:\n",
            "1.0\n",
            "\n",
            "ACCURACY SCORE:\n",
            "1.0000\n",
            "\n",
            "CLASSIFICATION REPORT:\n",
            "               0      1  accuracy  macro avg  weighted avg\n",
            "precision   1.00   1.00      1.00       1.00          1.00\n",
            "recall      1.00   1.00      1.00       1.00          1.00\n",
            "f1-score    1.00   1.00      1.00       1.00          1.00\n",
            "support   449.00 242.00      1.00     691.00        691.00\n",
            "\n",
            "\n",
            "TESTING RESULTS: \n",
            "===============================\n",
            "\n",
            "CONFUSION MATRIX:\n",
            "[[43  8]\n",
            " [ 8 18]]\n",
            "\n",
            "F1-SCORE:\n",
            "0.6923076923076923\n",
            "\n",
            "RECALL SCORE:\n",
            "0.6923076923076923\n",
            "\n",
            "PRECISION SCORE:\n",
            "0.6923076923076923\n",
            "\n",
            "ACCURACY SCORE:\n",
            "0.7922\n",
            "\n",
            "CLASSIFICATION REPORT:\n",
            "              0     1  accuracy  macro avg  weighted avg\n",
            "precision  0.84  0.69      0.79       0.77          0.79\n",
            "recall     0.84  0.69      0.79       0.77          0.79\n",
            "f1-score   0.84  0.69      0.79       0.77          0.79\n",
            "support   51.00 26.00      0.79      77.00         77.00\n"
          ]
        }
      ],
      "source": [
        "from sklearn.ensemble import RandomForestClassifier\n",
        "\n",
        "model3 = RandomForestClassifier()\n",
        "model3.fit(X_train, y_train)\n",
        "y_pred3 = model3.predict(X_test)\n",
        "\n",
        "evaluate(model3, X_train, X_test, y_train, y_test)"
      ]
    },
    {
      "cell_type": "code",
      "execution_count": null,
      "metadata": {
        "colab": {
          "base_uri": "https://localhost:8080/"
        },
        "id": "olxDQOhhFNm3",
        "outputId": "a0e9e1ff-cbf0-4451-a1a1-253f2bb36373"
      },
      "outputs": [
        {
          "name": "stdout",
          "output_type": "stream",
          "text": [
            "\n",
            "TRAINIG RESULTS: \n",
            "===============================\n",
            "\n",
            "CONFUSION MATRIX:\n",
            "[[375  74]\n",
            " [111 131]]\n",
            "\n",
            "F1-SCORE:\n",
            "0.5861297539149888\n",
            "\n",
            "RECALL SCORE:\n",
            "0.5413223140495868\n",
            "\n",
            "PRECISION SCORE:\n",
            "0.6390243902439025\n",
            "\n",
            "ACCURACY SCORE:\n",
            "0.7323\n",
            "\n",
            "CLASSIFICATION REPORT:\n",
            "               0      1  accuracy  macro avg  weighted avg\n",
            "precision   0.77   0.64      0.73       0.71          0.73\n",
            "recall      0.84   0.54      0.73       0.69          0.73\n",
            "f1-score    0.80   0.59      0.73       0.69          0.73\n",
            "support   449.00 242.00      0.73     691.00        691.00\n",
            "\n",
            "\n",
            "TESTING RESULTS: \n",
            "===============================\n",
            "\n",
            "CONFUSION MATRIX:\n",
            "[[39 12]\n",
            " [ 8 18]]\n",
            "\n",
            "F1-SCORE:\n",
            "0.6428571428571429\n",
            "\n",
            "RECALL SCORE:\n",
            "0.6923076923076923\n",
            "\n",
            "PRECISION SCORE:\n",
            "0.6\n",
            "\n",
            "ACCURACY SCORE:\n",
            "0.7403\n",
            "\n",
            "CLASSIFICATION REPORT:\n",
            "              0     1  accuracy  macro avg  weighted avg\n",
            "precision  0.83  0.60      0.74       0.71          0.75\n",
            "recall     0.76  0.69      0.74       0.73          0.74\n",
            "f1-score   0.80  0.64      0.74       0.72          0.74\n",
            "support   51.00 26.00      0.74      77.00         77.00\n"
          ]
        }
      ],
      "source": [
        "from sklearn.neural_network import MLPClassifier\n",
        "\n",
        "model4 = MLPClassifier()\n",
        "model4.fit(X_train, y_train)\n",
        "y_pred4 = model4.predict(X_test)\n",
        "\n",
        "evaluate(model4, X_train, X_test, y_train, y_test)"
      ]
    },
    {
      "cell_type": "code",
      "execution_count": null,
      "metadata": {
        "colab": {
          "base_uri": "https://localhost:8080/"
        },
        "id": "cAeJUy4LFVzJ",
        "outputId": "2c026318-51c0-4898-9dae-6e37cefc7763"
      },
      "outputs": [
        {
          "name": "stdout",
          "output_type": "stream",
          "text": [
            "\n",
            "TRAINIG RESULTS: \n",
            "===============================\n",
            "\n",
            "CONFUSION MATRIX:\n",
            "[[395  54]\n",
            " [106 136]]\n",
            "\n",
            "F1-SCORE:\n",
            "0.6296296296296298\n",
            "\n",
            "RECALL SCORE:\n",
            "0.5619834710743802\n",
            "\n",
            "PRECISION SCORE:\n",
            "0.7157894736842105\n",
            "\n",
            "ACCURACY SCORE:\n",
            "0.7685\n",
            "\n",
            "CLASSIFICATION REPORT:\n",
            "               0      1  accuracy  macro avg  weighted avg\n",
            "precision   0.79   0.72      0.77       0.75          0.76\n",
            "recall      0.88   0.56      0.77       0.72          0.77\n",
            "f1-score    0.83   0.63      0.77       0.73          0.76\n",
            "support   449.00 242.00      0.77     691.00        691.00\n",
            "\n",
            "\n",
            "TESTING RESULTS: \n",
            "===============================\n",
            "\n",
            "CONFUSION MATRIX:\n",
            "[[48  3]\n",
            " [ 6 20]]\n",
            "\n",
            "F1-SCORE:\n",
            "0.8163265306122449\n",
            "\n",
            "RECALL SCORE:\n",
            "0.7692307692307693\n",
            "\n",
            "PRECISION SCORE:\n",
            "0.8695652173913043\n",
            "\n",
            "ACCURACY SCORE:\n",
            "0.8831\n",
            "\n",
            "CLASSIFICATION REPORT:\n",
            "              0     1  accuracy  macro avg  weighted avg\n",
            "precision  0.89  0.87      0.88       0.88          0.88\n",
            "recall     0.94  0.77      0.88       0.86          0.88\n",
            "f1-score   0.91  0.82      0.88       0.87          0.88\n",
            "support   51.00 26.00      0.88      77.00         77.00\n"
          ]
        }
      ],
      "source": [
        "from sklearn.linear_model import LogisticRegression\n",
        "\n",
        "model5 = LogisticRegression(max_iter=1000)\n",
        "model5.fit(X_train, y_train)\n",
        "y_pred5 = model5.predict(X_test)\n",
        "\n",
        "evaluate(model5, X_train, X_test, y_train, y_test)"
      ]
    },
    {
      "cell_type": "code",
      "execution_count": null,
      "metadata": {
        "colab": {
          "base_uri": "https://localhost:8080/"
        },
        "id": "J4Q7TrKQF5PM",
        "outputId": "0e4f92e0-d1e3-4a24-f493-9b0c70803d87"
      },
      "outputs": [
        {
          "name": "stdout",
          "output_type": "stream",
          "text": [
            "\n",
            "TRAINIG RESULTS: \n",
            "===============================\n",
            "\n",
            "CONFUSION MATRIX:\n",
            "[[427  22]\n",
            " [ 41 201]]\n",
            "\n",
            "F1-SCORE:\n",
            "0.864516129032258\n",
            "\n",
            "RECALL SCORE:\n",
            "0.8305785123966942\n",
            "\n",
            "PRECISION SCORE:\n",
            "0.9013452914798207\n",
            "\n",
            "ACCURACY SCORE:\n",
            "0.9088\n",
            "\n",
            "CLASSIFICATION REPORT:\n",
            "               0      1  accuracy  macro avg  weighted avg\n",
            "precision   0.91   0.90      0.91       0.91          0.91\n",
            "recall      0.95   0.83      0.91       0.89          0.91\n",
            "f1-score    0.93   0.86      0.91       0.90          0.91\n",
            "support   449.00 242.00      0.91     691.00        691.00\n",
            "\n",
            "\n",
            "TESTING RESULTS: \n",
            "===============================\n",
            "\n",
            "CONFUSION MATRIX:\n",
            "[[42  9]\n",
            " [ 7 19]]\n",
            "\n",
            "F1-SCORE:\n",
            "0.7037037037037038\n",
            "\n",
            "RECALL SCORE:\n",
            "0.7307692307692307\n",
            "\n",
            "PRECISION SCORE:\n",
            "0.6785714285714286\n",
            "\n",
            "ACCURACY SCORE:\n",
            "0.7922\n",
            "\n",
            "CLASSIFICATION REPORT:\n",
            "              0     1  accuracy  macro avg  weighted avg\n",
            "precision  0.86  0.68      0.79       0.77          0.80\n",
            "recall     0.82  0.73      0.79       0.78          0.79\n",
            "f1-score   0.84  0.70      0.79       0.77          0.79\n",
            "support   51.00 26.00      0.79      77.00         77.00\n"
          ]
        }
      ],
      "source": [
        "from sklearn.ensemble import GradientBoostingClassifier\n",
        "\n",
        "model6 = GradientBoostingClassifier()\n",
        "model6.fit(X_train, y_train)\n",
        "y_pred6 = model6.predict(X_test)\n",
        "\n",
        "evaluate(model6, X_train, X_test, y_train, y_test)"
      ]
    },
    {
      "cell_type": "code",
      "execution_count": null,
      "metadata": {
        "colab": {
          "base_uri": "https://localhost:8080/"
        },
        "id": "ALBtOkufGVe5",
        "outputId": "2017a76d-3fbe-448a-c104-871a2af78a40"
      },
      "outputs": [
        {
          "name": "stdout",
          "output_type": "stream",
          "text": [
            "\n",
            "TRAINIG RESULTS: \n",
            "===============================\n",
            "\n",
            "CONFUSION MATRIX:\n",
            "[[408  41]\n",
            " [128 114]]\n",
            "\n",
            "F1-SCORE:\n",
            "0.5743073047858942\n",
            "\n",
            "RECALL SCORE:\n",
            "0.47107438016528924\n",
            "\n",
            "PRECISION SCORE:\n",
            "0.7354838709677419\n",
            "\n",
            "ACCURACY SCORE:\n",
            "0.7554\n",
            "\n",
            "CLASSIFICATION REPORT:\n",
            "               0      1  accuracy  macro avg  weighted avg\n",
            "precision   0.76   0.74      0.76       0.75          0.75\n",
            "recall      0.91   0.47      0.76       0.69          0.76\n",
            "f1-score    0.83   0.57      0.76       0.70          0.74\n",
            "support   449.00 242.00      0.76     691.00        691.00\n",
            "\n",
            "\n",
            "TESTING RESULTS: \n",
            "===============================\n",
            "\n",
            "CONFUSION MATRIX:\n",
            "[[48  3]\n",
            " [ 9 17]]\n",
            "\n",
            "F1-SCORE:\n",
            "0.7391304347826088\n",
            "\n",
            "RECALL SCORE:\n",
            "0.6538461538461539\n",
            "\n",
            "PRECISION SCORE:\n",
            "0.85\n",
            "\n",
            "ACCURACY SCORE:\n",
            "0.8442\n",
            "\n",
            "CLASSIFICATION REPORT:\n",
            "              0     1  accuracy  macro avg  weighted avg\n",
            "precision  0.84  0.85      0.84       0.85          0.84\n",
            "recall     0.94  0.65      0.84       0.80          0.84\n",
            "f1-score   0.89  0.74      0.84       0.81          0.84\n",
            "support   51.00 26.00      0.84      77.00         77.00\n"
          ]
        }
      ],
      "source": [
        "from sklearn.svm import SVC\n",
        "\n",
        "model7 = SVC(probability=True)\n",
        "model7.fit(X_train, y_train)\n",
        "y_pred7 = model7.predict(X_test)\n",
        "\n",
        "evaluate(model7, X_train, X_test, y_train, y_test)"
      ]
    },
    {
      "cell_type": "code",
      "execution_count": null,
      "metadata": {
        "colab": {
          "base_uri": "https://localhost:8080/"
        },
        "id": "AP_FHiUhGpmU",
        "outputId": "fda5c74f-4e56-4321-96dc-8d58ca146a10"
      },
      "outputs": [
        {
          "name": "stdout",
          "output_type": "stream",
          "text": [
            "\n",
            "TRAINIG RESULTS: \n",
            "===============================\n",
            "\n",
            "CONFUSION MATRIX:\n",
            "[[391  58]\n",
            " [ 82 160]]\n",
            "\n",
            "F1-SCORE:\n",
            "0.6956521739130436\n",
            "\n",
            "RECALL SCORE:\n",
            "0.6611570247933884\n",
            "\n",
            "PRECISION SCORE:\n",
            "0.7339449541284404\n",
            "\n",
            "ACCURACY SCORE:\n",
            "0.7974\n",
            "\n",
            "CLASSIFICATION REPORT:\n",
            "               0      1  accuracy  macro avg  weighted avg\n",
            "precision   0.83   0.73      0.80       0.78          0.79\n",
            "recall      0.87   0.66      0.80       0.77          0.80\n",
            "f1-score    0.85   0.70      0.80       0.77          0.79\n",
            "support   449.00 242.00      0.80     691.00        691.00\n",
            "\n",
            "\n",
            "TESTING RESULTS: \n",
            "===============================\n",
            "\n",
            "CONFUSION MATRIX:\n",
            "[[43  8]\n",
            " [ 9 17]]\n",
            "\n",
            "F1-SCORE:\n",
            "0.6666666666666666\n",
            "\n",
            "RECALL SCORE:\n",
            "0.6538461538461539\n",
            "\n",
            "PRECISION SCORE:\n",
            "0.68\n",
            "\n",
            "ACCURACY SCORE:\n",
            "0.7792\n",
            "\n",
            "CLASSIFICATION REPORT:\n",
            "              0     1  accuracy  macro avg  weighted avg\n",
            "precision  0.83  0.68      0.78       0.75          0.78\n",
            "recall     0.84  0.65      0.78       0.75          0.78\n",
            "f1-score   0.83  0.67      0.78       0.75          0.78\n",
            "support   51.00 26.00      0.78      77.00         77.00\n"
          ]
        }
      ],
      "source": [
        "from sklearn.neighbors import KNeighborsClassifier\n",
        "\n",
        "model8 = KNeighborsClassifier()\n",
        "model8.fit(X_train, y_train)\n",
        "y_pred8 = model8.predict(X_test)\n",
        "\n",
        "evaluate(model8, X_train, X_test, y_train, y_test)"
      ]
    },
    {
      "cell_type": "code",
      "execution_count": null,
      "metadata": {
        "colab": {
          "base_uri": "https://localhost:8080/"
        },
        "id": "x5Vx0BaoHAPa",
        "outputId": "e89621ba-884c-4570-b977-27887b608d0e"
      },
      "outputs": [
        {
          "name": "stdout",
          "output_type": "stream",
          "text": [
            "\n",
            "TRAINIG RESULTS: \n",
            "===============================\n",
            "\n",
            "CONFUSION MATRIX:\n",
            "[[398  51]\n",
            " [ 80 162]]\n",
            "\n",
            "F1-SCORE:\n",
            "0.712087912087912\n",
            "\n",
            "RECALL SCORE:\n",
            "0.6694214876033058\n",
            "\n",
            "PRECISION SCORE:\n",
            "0.7605633802816901\n",
            "\n",
            "ACCURACY SCORE:\n",
            "0.8104\n",
            "\n",
            "CLASSIFICATION REPORT:\n",
            "               0      1  accuracy  macro avg  weighted avg\n",
            "precision   0.83   0.76      0.81       0.80          0.81\n",
            "recall      0.89   0.67      0.81       0.78          0.81\n",
            "f1-score    0.86   0.71      0.81       0.79          0.81\n",
            "support   449.00 242.00      0.81     691.00        691.00\n",
            "\n",
            "\n",
            "TESTING RESULTS: \n",
            "===============================\n",
            "\n",
            "CONFUSION MATRIX:\n",
            "[[41 10]\n",
            " [ 7 19]]\n",
            "\n",
            "F1-SCORE:\n",
            "0.6909090909090909\n",
            "\n",
            "RECALL SCORE:\n",
            "0.7307692307692307\n",
            "\n",
            "PRECISION SCORE:\n",
            "0.6551724137931034\n",
            "\n",
            "ACCURACY SCORE:\n",
            "0.7792\n",
            "\n",
            "CLASSIFICATION REPORT:\n",
            "              0     1  accuracy  macro avg  weighted avg\n",
            "precision  0.85  0.66      0.78       0.75          0.79\n",
            "recall     0.80  0.73      0.78       0.77          0.78\n",
            "f1-score   0.83  0.69      0.78       0.76          0.78\n",
            "support   51.00 26.00      0.78      77.00         77.00\n"
          ]
        }
      ],
      "source": [
        "from sklearn.ensemble import AdaBoostClassifier\n",
        "\n",
        "model9 = AdaBoostClassifier()\n",
        "model9.fit(X_train, y_train)\n",
        "y_pred9 = model9.predict(X_test)\n",
        "\n",
        "evaluate(model9, X_train, X_test, y_train, y_test)"
      ]
    },
    {
      "cell_type": "code",
      "execution_count": null,
      "metadata": {
        "colab": {
          "base_uri": "https://localhost:8080/"
        },
        "id": "X4ubxLzLHVmo",
        "outputId": "32b9fb72-d238-42e0-9920-be07355e8663"
      },
      "outputs": [
        {
          "name": "stdout",
          "output_type": "stream",
          "text": [
            "\n",
            "TRAINIG RESULTS: \n",
            "===============================\n",
            "\n",
            "CONFUSION MATRIX:\n",
            "[[337 112]\n",
            " [135 107]]\n",
            "\n",
            "F1-SCORE:\n",
            "0.46420824295010843\n",
            "\n",
            "RECALL SCORE:\n",
            "0.44214876033057854\n",
            "\n",
            "PRECISION SCORE:\n",
            "0.4885844748858447\n",
            "\n",
            "ACCURACY SCORE:\n",
            "0.6425\n",
            "\n",
            "CLASSIFICATION REPORT:\n",
            "               0      1  accuracy  macro avg  weighted avg\n",
            "precision   0.71   0.49      0.64       0.60          0.64\n",
            "recall      0.75   0.44      0.64       0.60          0.64\n",
            "f1-score    0.73   0.46      0.64       0.60          0.64\n",
            "support   449.00 242.00      0.64     691.00        691.00\n",
            "\n",
            "\n",
            "TESTING RESULTS: \n",
            "===============================\n",
            "\n",
            "CONFUSION MATRIX:\n",
            "[[39 12]\n",
            " [12 14]]\n",
            "\n",
            "F1-SCORE:\n",
            "0.5384615384615384\n",
            "\n",
            "RECALL SCORE:\n",
            "0.5384615384615384\n",
            "\n",
            "PRECISION SCORE:\n",
            "0.5384615384615384\n",
            "\n",
            "ACCURACY SCORE:\n",
            "0.6883\n",
            "\n",
            "CLASSIFICATION REPORT:\n",
            "              0     1  accuracy  macro avg  weighted avg\n",
            "precision  0.76  0.54      0.69       0.65          0.69\n",
            "recall     0.76  0.54      0.69       0.65          0.69\n",
            "f1-score   0.76  0.54      0.69       0.65          0.69\n",
            "support   51.00 26.00      0.69      77.00         77.00\n"
          ]
        }
      ],
      "source": [
        "from sklearn.naive_bayes import MultinomialNB\n",
        "\n",
        "model10 = MultinomialNB()\n",
        "model10.fit(X_train, y_train)\n",
        "y_pred10 = model10.predict(X_test)\n",
        "\n",
        "evaluate(model10, X_train, X_test, y_train, y_test)"
      ]
    },
    {
      "cell_type": "code",
      "execution_count": null,
      "metadata": {
        "colab": {
          "base_uri": "https://localhost:8080/"
        },
        "id": "61EH7xrSIXZV",
        "outputId": "b9d61c2a-03e5-4f6a-8e19-2ee374894e76"
      },
      "outputs": [
        {
          "name": "stdout",
          "output_type": "stream",
          "text": [
            "\n",
            "TRAINIG RESULTS: \n",
            "===============================\n",
            "\n",
            "CONFUSION MATRIX:\n",
            "[[449   0]\n",
            " [  0 242]]\n",
            "\n",
            "F1-SCORE:\n",
            "1.0\n",
            "\n",
            "RECALL SCORE:\n",
            "1.0\n",
            "\n",
            "PRECISION SCORE:\n",
            "1.0\n",
            "\n",
            "ACCURACY SCORE:\n",
            "1.0000\n",
            "\n",
            "CLASSIFICATION REPORT:\n",
            "               0      1  accuracy  macro avg  weighted avg\n",
            "precision   1.00   1.00      1.00       1.00          1.00\n",
            "recall      1.00   1.00      1.00       1.00          1.00\n",
            "f1-score    1.00   1.00      1.00       1.00          1.00\n",
            "support   449.00 242.00      1.00     691.00        691.00\n",
            "\n",
            "\n",
            "TESTING RESULTS: \n",
            "===============================\n",
            "\n",
            "CONFUSION MATRIX:\n",
            "[[42  9]\n",
            " [ 6 20]]\n",
            "\n",
            "F1-SCORE:\n",
            "0.7272727272727274\n",
            "\n",
            "RECALL SCORE:\n",
            "0.7692307692307693\n",
            "\n",
            "PRECISION SCORE:\n",
            "0.6896551724137931\n",
            "\n",
            "ACCURACY SCORE:\n",
            "0.8052\n",
            "\n",
            "CLASSIFICATION REPORT:\n",
            "              0     1  accuracy  macro avg  weighted avg\n",
            "precision  0.88  0.69      0.81       0.78          0.81\n",
            "recall     0.82  0.77      0.81       0.80          0.81\n",
            "f1-score   0.85  0.73      0.81       0.79          0.81\n",
            "support   51.00 26.00      0.81      77.00         77.00\n"
          ]
        }
      ],
      "source": [
        "from xgboost import XGBClassifier\n",
        "\n",
        "model11 = XGBClassifier()\n",
        "model11.fit(X_train, y_train)\n",
        "y_pred11 = model11.predict(X_test)\n",
        "\n",
        "evaluate(model11, X_train, X_test, y_train, y_test)"
      ]
    },
    {
      "cell_type": "markdown",
      "metadata": {
        "id": "MRHMt3K5yiUE"
      },
      "source": [
        "# ***Ensemble Learning***\n",
        "\n",
        "\n",
        "***Voting Classifier***"
      ]
    },
    {
      "cell_type": "code",
      "execution_count": null,
      "metadata": {
        "id": "fEduHzcGkE4k"
      },
      "outputs": [],
      "source": [
        "\n",
        "model_params = {\n",
        "    'SVC': {\n",
        "        'model': SVC(gamma='auto', probability=True),\n",
        "        'params' : {\n",
        "            'C': [1,10,20],\n",
        "            'kernel': ['rbf', 'linear']\n",
        "        }  \n",
        "    },\n",
        "    'RandomForestClassifier': {\n",
        "        'model': RandomForestClassifier(),\n",
        "        'params' : {\n",
        "            'n_estimators': [1,5,10]\n",
        "        }\n",
        "    },\n",
        "    'LogisticRegression' : {\n",
        "        'model': LogisticRegression(solver='liblinear',multi_class='auto'),\n",
        "        'params': {\n",
        "            'C': [1,5,10]\n",
        "        }\n",
        "    },\n",
        "    'DecisionTreeClassifier' : {\n",
        "        'model' : DecisionTreeClassifier(),\n",
        "        'params' : {\n",
        "            'criterion' : ['gini' , 'entropy', 'log_loss'],\n",
        "            'max_depth' : [2,3,5]\n",
        "            \n",
        "        }\n",
        "    },\n",
        "\n",
        "    'GaussianNB' : {\n",
        "        'model' : GaussianNB(),\n",
        "        'params' : {\n",
        "            \n",
        "            \n",
        "        }\n",
        "\n",
        "    },\n",
        "  ' MLPClassifier' : {\n",
        "      'model' :  MLPClassifier(solver = 'lbfgs' , max_fun = 15000),\n",
        "      'params' : {\n",
        "          \n",
        "          'hidden_layer_sizes': [2,3]\n",
        "          \n",
        "      }\n",
        "  },\n",
        "  'GradientBoostingClassifier' : {\n",
        "      'model' : GradientBoostingClassifier(loss = 'log_loss' ),\n",
        "      'params' : {\n",
        "          'learning_rate' : [0.0,0.01,1.0],\n",
        "          'n_estimators' :  [1,5,10]\n",
        "\n",
        "          \n",
        "      }\n",
        "  },\n",
        "  'KNeighborsClassifier' : {\n",
        "      'model' : KNeighborsClassifier(algorithm = 'brute'),\n",
        "      'params' : {\n",
        "          'n_neighbors' : [3,5,7]\n",
        "\n",
        "          \n",
        "      }\n",
        "  },\n",
        "\n",
        "  'AdaBoostClassifier' : {\n",
        "      'model' : AdaBoostClassifier(algorithm = 'SAMME.R') ,\n",
        "      'params' : {\n",
        "          \n",
        "          'n_estimators' :  [1,5,10],\n",
        "          'learning_rate' : [0.0,0.01,1.0]\n",
        "          \n",
        "      }\n",
        "      \n",
        "  },\n",
        "\n",
        "  'MultinomialNB' : {\n",
        "       'model' : MultinomialNB() ,\n",
        "      'params' : {\n",
        "          \n",
        "      }\n",
        "      \n",
        "  },\n",
        "\n",
        "  'XGBClassifier' : {\n",
        "      'model' : XGBClassifier() ,\n",
        "      'params' : {\n",
        "        'max_depth' : [2, 3 ,5],\n",
        "        'n_estimators' : [1,5,10]\n",
        "          \n",
        "      } \n",
        "  }\n",
        "\n",
        "    \n",
        "}"
      ]
    },
    {
      "cell_type": "code",
      "execution_count": null,
      "metadata": {
        "colab": {
          "background_save": true
        },
        "id": "e2_E7kRS9RTH",
        "outputId": "8804e024-2c5a-4da2-e71d-b9c5c7644ca3"
      },
      "outputs": [
        {
          "name": "stderr",
          "output_type": "stream",
          "text": [
            "/usr/local/lib/python3.9/dist-packages/sklearn/neural_network/_multilayer_perceptron.py:541: ConvergenceWarning: lbfgs failed to converge (status=1):\n",
            "STOP: TOTAL NO. of ITERATIONS REACHED LIMIT.\n",
            "\n",
            "Increase the number of iterations (max_iter) or scale the data as shown in:\n",
            "    https://scikit-learn.org/stable/modules/preprocessing.html\n",
            "  self.n_iter_ = _check_optimize_result(\"lbfgs\", opt_res, self.max_iter)\n",
            "/usr/local/lib/python3.9/dist-packages/sklearn/neural_network/_multilayer_perceptron.py:541: ConvergenceWarning: lbfgs failed to converge (status=1):\n",
            "STOP: TOTAL NO. of ITERATIONS REACHED LIMIT.\n",
            "\n",
            "Increase the number of iterations (max_iter) or scale the data as shown in:\n",
            "    https://scikit-learn.org/stable/modules/preprocessing.html\n",
            "  self.n_iter_ = _check_optimize_result(\"lbfgs\", opt_res, self.max_iter)\n",
            "/usr/local/lib/python3.9/dist-packages/sklearn/model_selection/_validation.py:378: FitFailedWarning: \n",
            "30 fits failed out of a total of 90.\n",
            "The score on these train-test partitions for these parameters will be set to nan.\n",
            "If these failures are not expected, you can try to debug them by setting error_score='raise'.\n",
            "\n",
            "Below are more details about the failures:\n",
            "--------------------------------------------------------------------------------\n",
            "30 fits failed with the following error:\n",
            "Traceback (most recent call last):\n",
            "  File \"/usr/local/lib/python3.9/dist-packages/sklearn/model_selection/_validation.py\", line 686, in _fit_and_score\n",
            "    estimator.fit(X_train, y_train, **fit_params)\n",
            "  File \"/usr/local/lib/python3.9/dist-packages/sklearn/ensemble/_weight_boosting.py\", line 124, in fit\n",
            "    self._validate_params()\n",
            "  File \"/usr/local/lib/python3.9/dist-packages/sklearn/base.py\", line 581, in _validate_params\n",
            "    validate_parameter_constraints(\n",
            "  File \"/usr/local/lib/python3.9/dist-packages/sklearn/utils/_param_validation.py\", line 97, in validate_parameter_constraints\n",
            "    raise InvalidParameterError(\n",
            "sklearn.utils._param_validation.InvalidParameterError: The 'learning_rate' parameter of AdaBoostClassifier must be a float in the range (0, inf). Got 0.0 instead.\n",
            "\n",
            "  warnings.warn(some_fits_failed_message, FitFailedWarning)\n",
            "/usr/local/lib/python3.9/dist-packages/sklearn/model_selection/_search.py:952: UserWarning: One or more of the test scores are non-finite: [       nan        nan        nan 0.69910973 0.69621118 0.69621118\n",
            " 0.69910973 0.74246377 0.74681159]\n",
            "  warnings.warn(\n"
          ]
        },
        {
          "data": {
            "text/html": [
              "\n",
              "  <div id=\"df-5cc38afd-916f-4a52-b7c9-59deffd12c27\">\n",
              "    <div class=\"colab-df-container\">\n",
              "      <div>\n",
              "<style scoped>\n",
              "    .dataframe tbody tr th:only-of-type {\n",
              "        vertical-align: middle;\n",
              "    }\n",
              "\n",
              "    .dataframe tbody tr th {\n",
              "        vertical-align: top;\n",
              "    }\n",
              "\n",
              "    .dataframe thead th {\n",
              "        text-align: right;\n",
              "    }\n",
              "</style>\n",
              "<table border=\"1\" class=\"dataframe\">\n",
              "  <thead>\n",
              "    <tr style=\"text-align: right;\">\n",
              "      <th></th>\n",
              "      <th>model</th>\n",
              "      <th>best_score</th>\n",
              "      <th>best_params</th>\n",
              "    </tr>\n",
              "  </thead>\n",
              "  <tbody>\n",
              "    <tr>\n",
              "      <th>0</th>\n",
              "      <td>SVC</td>\n",
              "      <td>0.76</td>\n",
              "      <td>{'C': 1, 'kernel': 'linear'}</td>\n",
              "    </tr>\n",
              "    <tr>\n",
              "      <th>1</th>\n",
              "      <td>RandomForestClassifier</td>\n",
              "      <td>0.74</td>\n",
              "      <td>{'n_estimators': 10}</td>\n",
              "    </tr>\n",
              "    <tr>\n",
              "      <th>2</th>\n",
              "      <td>LogisticRegression</td>\n",
              "      <td>0.76</td>\n",
              "      <td>{'C': 5}</td>\n",
              "    </tr>\n",
              "    <tr>\n",
              "      <th>3</th>\n",
              "      <td>DecisionTreeClassifier</td>\n",
              "      <td>0.74</td>\n",
              "      <td>{'criterion': 'entropy', 'max_depth': 2}</td>\n",
              "    </tr>\n",
              "    <tr>\n",
              "      <th>4</th>\n",
              "      <td>GaussianNB</td>\n",
              "      <td>0.74</td>\n",
              "      <td>{}</td>\n",
              "    </tr>\n",
              "    <tr>\n",
              "      <th>5</th>\n",
              "      <td>MLPClassifier</td>\n",
              "      <td>0.70</td>\n",
              "      <td>{'hidden_layer_sizes': 3}</td>\n",
              "    </tr>\n",
              "    <tr>\n",
              "      <th>6</th>\n",
              "      <td>GradientBoostingClassifier</td>\n",
              "      <td>0.74</td>\n",
              "      <td>{'learning_rate': 1.0, 'n_estimators': 5}</td>\n",
              "    </tr>\n",
              "    <tr>\n",
              "      <th>7</th>\n",
              "      <td>KNeighborsClassifier</td>\n",
              "      <td>0.70</td>\n",
              "      <td>{'n_neighbors': 3}</td>\n",
              "    </tr>\n",
              "    <tr>\n",
              "      <th>8</th>\n",
              "      <td>AdaBoostClassifier</td>\n",
              "      <td>0.75</td>\n",
              "      <td>{'learning_rate': 1.0, 'n_estimators': 10}</td>\n",
              "    </tr>\n",
              "    <tr>\n",
              "      <th>9</th>\n",
              "      <td>MultinomialNB</td>\n",
              "      <td>0.64</td>\n",
              "      <td>{}</td>\n",
              "    </tr>\n",
              "    <tr>\n",
              "      <th>10</th>\n",
              "      <td>XGBClassifier</td>\n",
              "      <td>0.76</td>\n",
              "      <td>{'max_depth': 3, 'n_estimators': 10}</td>\n",
              "    </tr>\n",
              "  </tbody>\n",
              "</table>\n",
              "</div>\n",
              "      <button class=\"colab-df-convert\" onclick=\"convertToInteractive('df-5cc38afd-916f-4a52-b7c9-59deffd12c27')\"\n",
              "              title=\"Convert this dataframe to an interactive table.\"\n",
              "              style=\"display:none;\">\n",
              "        \n",
              "  <svg xmlns=\"http://www.w3.org/2000/svg\" height=\"24px\"viewBox=\"0 0 24 24\"\n",
              "       width=\"24px\">\n",
              "    <path d=\"M0 0h24v24H0V0z\" fill=\"none\"/>\n",
              "    <path d=\"M18.56 5.44l.94 2.06.94-2.06 2.06-.94-2.06-.94-.94-2.06-.94 2.06-2.06.94zm-11 1L8.5 8.5l.94-2.06 2.06-.94-2.06-.94L8.5 2.5l-.94 2.06-2.06.94zm10 10l.94 2.06.94-2.06 2.06-.94-2.06-.94-.94-2.06-.94 2.06-2.06.94z\"/><path d=\"M17.41 7.96l-1.37-1.37c-.4-.4-.92-.59-1.43-.59-.52 0-1.04.2-1.43.59L10.3 9.45l-7.72 7.72c-.78.78-.78 2.05 0 2.83L4 21.41c.39.39.9.59 1.41.59.51 0 1.02-.2 1.41-.59l7.78-7.78 2.81-2.81c.8-.78.8-2.07 0-2.86zM5.41 20L4 18.59l7.72-7.72 1.47 1.35L5.41 20z\"/>\n",
              "  </svg>\n",
              "      </button>\n",
              "      \n",
              "  <style>\n",
              "    .colab-df-container {\n",
              "      display:flex;\n",
              "      flex-wrap:wrap;\n",
              "      gap: 12px;\n",
              "    }\n",
              "\n",
              "    .colab-df-convert {\n",
              "      background-color: #E8F0FE;\n",
              "      border: none;\n",
              "      border-radius: 50%;\n",
              "      cursor: pointer;\n",
              "      display: none;\n",
              "      fill: #1967D2;\n",
              "      height: 32px;\n",
              "      padding: 0 0 0 0;\n",
              "      width: 32px;\n",
              "    }\n",
              "\n",
              "    .colab-df-convert:hover {\n",
              "      background-color: #E2EBFA;\n",
              "      box-shadow: 0px 1px 2px rgba(60, 64, 67, 0.3), 0px 1px 3px 1px rgba(60, 64, 67, 0.15);\n",
              "      fill: #174EA6;\n",
              "    }\n",
              "\n",
              "    [theme=dark] .colab-df-convert {\n",
              "      background-color: #3B4455;\n",
              "      fill: #D2E3FC;\n",
              "    }\n",
              "\n",
              "    [theme=dark] .colab-df-convert:hover {\n",
              "      background-color: #434B5C;\n",
              "      box-shadow: 0px 1px 3px 1px rgba(0, 0, 0, 0.15);\n",
              "      filter: drop-shadow(0px 1px 2px rgba(0, 0, 0, 0.3));\n",
              "      fill: #FFFFFF;\n",
              "    }\n",
              "  </style>\n",
              "\n",
              "      <script>\n",
              "        const buttonEl =\n",
              "          document.querySelector('#df-5cc38afd-916f-4a52-b7c9-59deffd12c27 button.colab-df-convert');\n",
              "        buttonEl.style.display =\n",
              "          google.colab.kernel.accessAllowed ? 'block' : 'none';\n",
              "\n",
              "        async function convertToInteractive(key) {\n",
              "          const element = document.querySelector('#df-5cc38afd-916f-4a52-b7c9-59deffd12c27');\n",
              "          const dataTable =\n",
              "            await google.colab.kernel.invokeFunction('convertToInteractive',\n",
              "                                                     [key], {});\n",
              "          if (!dataTable) return;\n",
              "\n",
              "          const docLinkHtml = 'Like what you see? Visit the ' +\n",
              "            '<a target=\"_blank\" href=https://colab.research.google.com/notebooks/data_table.ipynb>data table notebook</a>'\n",
              "            + ' to learn more about interactive tables.';\n",
              "          element.innerHTML = '';\n",
              "          dataTable['output_type'] = 'display_data';\n",
              "          await google.colab.output.renderOutput(dataTable, element);\n",
              "          const docLink = document.createElement('div');\n",
              "          docLink.innerHTML = docLinkHtml;\n",
              "          element.appendChild(docLink);\n",
              "        }\n",
              "      </script>\n",
              "    </div>\n",
              "  </div>\n",
              "  "
            ],
            "text/plain": [
              "                         model  best_score  \\\n",
              "0                          SVC        0.76   \n",
              "1       RandomForestClassifier        0.74   \n",
              "2           LogisticRegression        0.76   \n",
              "3       DecisionTreeClassifier        0.74   \n",
              "4                   GaussianNB        0.74   \n",
              "5                MLPClassifier        0.70   \n",
              "6   GradientBoostingClassifier        0.74   \n",
              "7         KNeighborsClassifier        0.70   \n",
              "8           AdaBoostClassifier        0.75   \n",
              "9                MultinomialNB        0.64   \n",
              "10               XGBClassifier        0.76   \n",
              "\n",
              "                                   best_params  \n",
              "0                 {'C': 1, 'kernel': 'linear'}  \n",
              "1                         {'n_estimators': 10}  \n",
              "2                                     {'C': 5}  \n",
              "3     {'criterion': 'entropy', 'max_depth': 2}  \n",
              "4                                           {}  \n",
              "5                    {'hidden_layer_sizes': 3}  \n",
              "6    {'learning_rate': 1.0, 'n_estimators': 5}  \n",
              "7                           {'n_neighbors': 3}  \n",
              "8   {'learning_rate': 1.0, 'n_estimators': 10}  \n",
              "9                                           {}  \n",
              "10        {'max_depth': 3, 'n_estimators': 10}  "
            ]
          },
          "execution_count": 53,
          "metadata": {},
          "output_type": "execute_result"
        }
      ],
      "source": [
        "from sklearn.model_selection import GridSearchCV\n",
        "\n",
        "scores = []\n",
        "\n",
        "for model_name, mp in model_params.items():\n",
        "    clf =  GridSearchCV(mp['model'], mp['params'], cv=10, return_train_score=False)\n",
        "    clf.fit(X_train,y_train)\n",
        "    scores.append({\n",
        "        'model': model_name,\n",
        "        'best_score': clf.best_score_,\n",
        "        'best_params': clf.best_params_\n",
        "    })\n",
        "    \n",
        "df = pd.DataFrame(scores,columns=['model','best_score','best_params'])\n",
        "df"
      ]
    },
    {
      "cell_type": "code",
      "execution_count": null,
      "metadata": {
        "id": "I6tMTjY0sC4J"
      },
      "outputs": [],
      "source": [
        "estimators = []\n",
        "\n",
        "modelA = SVC(C = 1, kernel = 'linear', probability=True)\n",
        "estimators.append(('SVC', modelA))\n",
        "modelB = LogisticRegression(C = 10)\n",
        "estimators.append(('LogisticRegression', modelB))\n",
        "modelC = XGBClassifier(max_depth = 5, n_estimators = 10)\n",
        "estimators.append(('XGBClassifier', modelC))"
      ]
    },
    {
      "cell_type": "code",
      "execution_count": null,
      "metadata": {
        "colab": {
          "base_uri": "https://localhost:8080/"
        },
        "id": "z6SMZI28SuGb",
        "outputId": "944cac05-5cd3-4dbf-f024-afe380321108"
      },
      "outputs": [
        {
          "name": "stderr",
          "output_type": "stream",
          "text": [
            "/usr/local/lib/python3.9/dist-packages/sklearn/linear_model/_logistic.py:458: ConvergenceWarning: lbfgs failed to converge (status=1):\n",
            "STOP: TOTAL NO. of ITERATIONS REACHED LIMIT.\n",
            "\n",
            "Increase the number of iterations (max_iter) or scale the data as shown in:\n",
            "    https://scikit-learn.org/stable/modules/preprocessing.html\n",
            "Please also refer to the documentation for alternative solver options:\n",
            "    https://scikit-learn.org/stable/modules/linear_model.html#logistic-regression\n",
            "  n_iter_i = _check_optimize_result(\n"
          ]
        }
      ],
      "source": [
        "from sklearn.ensemble import VotingClassifier\n",
        "\n",
        "voting_hard = VotingClassifier(estimators, voting='hard')\n",
        "voting_hard = voting_hard.fit(X_train, y_train)\n",
        "y_predh = voting_hard.predict(X_test)"
      ]
    },
    {
      "cell_type": "code",
      "execution_count": null,
      "metadata": {
        "colab": {
          "base_uri": "https://localhost:8080/"
        },
        "id": "WZu9CtCtTF12",
        "outputId": "e53fc862-d650-412a-99de-0a32368f9ce8"
      },
      "outputs": [
        {
          "name": "stderr",
          "output_type": "stream",
          "text": [
            "/usr/local/lib/python3.9/dist-packages/sklearn/linear_model/_logistic.py:458: ConvergenceWarning: lbfgs failed to converge (status=1):\n",
            "STOP: TOTAL NO. of ITERATIONS REACHED LIMIT.\n",
            "\n",
            "Increase the number of iterations (max_iter) or scale the data as shown in:\n",
            "    https://scikit-learn.org/stable/modules/preprocessing.html\n",
            "Please also refer to the documentation for alternative solver options:\n",
            "    https://scikit-learn.org/stable/modules/linear_model.html#logistic-regression\n",
            "  n_iter_i = _check_optimize_result(\n"
          ]
        }
      ],
      "source": [
        "voting_soft = VotingClassifier(estimators, voting='soft')\n",
        "voting_soft = voting_soft.fit(X_train, y_train)\n",
        "y_preds = voting_soft.predict(X_test)"
      ]
    },
    {
      "cell_type": "markdown",
      "metadata": {
        "id": "c13F-9Bh_OtT"
      },
      "source": [
        "# ***Model Comparison***"
      ]
    },
    {
      "cell_type": "code",
      "execution_count": null,
      "metadata": {
        "id": "vmuObvE018ln"
      },
      "outputs": [],
      "source": [
        "model_comparison1 = pd.DataFrame({'SVM':[accuracy_score(y_test,y_pred7)*100,f1_score(y_test,y_pred7,average='macro')*100,recall_score(y_test, y_pred7,average='micro')*100,precision_score(y_test, y_pred7,average='micro')*100],\n",
        "                           'MLP':[accuracy_score(y_test,y_pred4)*100,f1_score(y_test,y_pred4,average='macro')*100,recall_score(y_test, y_pred4,average='micro')*100,precision_score(y_test, y_pred4,average='micro')*100],\n",
        "                           'Decision Tree':[accuracy_score(y_test,y_pred1)*100,f1_score(y_test,y_pred1,average='macro')*100,recall_score(y_test, y_pred1,average='micro')*100,precision_score(y_test, y_pred1,average='micro')*100],\n",
        "                           'KNN':[accuracy_score(y_test,y_pred8)*100,f1_score(y_test,y_pred8,average='macro')*100,recall_score(y_test, y_pred8,average='micro')*100,precision_score(y_test, y_pred8,average='micro')*100],\n",
        "                           'Hard Voting Classifier':[accuracy_score(y_test,y_predh)*100,f1_score(y_test,y_predh,average='macro')*100,recall_score(y_test, y_predh,average='micro')*100,precision_score(y_test, y_predh,average='micro')*100],\n",
        "                           'Soft Voting Classifier':[accuracy_score(y_test,y_preds)*100,f1_score(y_test,y_preds,average='macro')*100,recall_score(y_test, y_preds,average='micro')*100,precision_score(y_test, y_preds,average='micro')*100]\n",
        "})"
      ]
    },
    {
      "cell_type": "code",
      "execution_count": null,
      "metadata": {
        "colab": {
          "base_uri": "https://localhost:8080/",
          "height": 209
        },
        "id": "thMKvxPx2RSd",
        "outputId": "3704502b-1dc4-4857-fcc7-c5fbd190162e"
      },
      "outputs": [
        {
          "name": "stdout",
          "output_type": "stream",
          "text": [
            "\n",
            "\t\t\t*** Model Comparison ***\n"
          ]
        },
        {
          "data": {
            "text/html": [
              "\n",
              "  <div id=\"df-342e7ede-c018-4006-a545-8321f0468eb5\">\n",
              "    <div class=\"colab-df-container\">\n",
              "      <div>\n",
              "<style scoped>\n",
              "    .dataframe tbody tr th:only-of-type {\n",
              "        vertical-align: middle;\n",
              "    }\n",
              "\n",
              "    .dataframe tbody tr th {\n",
              "        vertical-align: top;\n",
              "    }\n",
              "\n",
              "    .dataframe thead th {\n",
              "        text-align: right;\n",
              "    }\n",
              "</style>\n",
              "<table border=\"1\" class=\"dataframe\">\n",
              "  <thead>\n",
              "    <tr style=\"text-align: right;\">\n",
              "      <th></th>\n",
              "      <th>SVM</th>\n",
              "      <th>MLP</th>\n",
              "      <th>Decision Tree</th>\n",
              "      <th>KNN</th>\n",
              "      <th>Hard Voting Classifier</th>\n",
              "      <th>Soft Voting Classifier</th>\n",
              "    </tr>\n",
              "  </thead>\n",
              "  <tbody>\n",
              "    <tr>\n",
              "      <th>Accuracy</th>\n",
              "      <td>84.42</td>\n",
              "      <td>74.03</td>\n",
              "      <td>75.32</td>\n",
              "      <td>77.92</td>\n",
              "      <td>84.42</td>\n",
              "      <td>83.12</td>\n",
              "    </tr>\n",
              "    <tr>\n",
              "      <th>F1_score</th>\n",
              "      <td>81.40</td>\n",
              "      <td>71.94</td>\n",
              "      <td>72.67</td>\n",
              "      <td>75.08</td>\n",
              "      <td>81.84</td>\n",
              "      <td>80.54</td>\n",
              "    </tr>\n",
              "    <tr>\n",
              "      <th>Recall</th>\n",
              "      <td>84.42</td>\n",
              "      <td>74.03</td>\n",
              "      <td>75.32</td>\n",
              "      <td>77.92</td>\n",
              "      <td>84.42</td>\n",
              "      <td>83.12</td>\n",
              "    </tr>\n",
              "    <tr>\n",
              "      <th>Precision</th>\n",
              "      <td>84.42</td>\n",
              "      <td>74.03</td>\n",
              "      <td>75.32</td>\n",
              "      <td>77.92</td>\n",
              "      <td>84.42</td>\n",
              "      <td>83.12</td>\n",
              "    </tr>\n",
              "  </tbody>\n",
              "</table>\n",
              "</div>\n",
              "      <button class=\"colab-df-convert\" onclick=\"convertToInteractive('df-342e7ede-c018-4006-a545-8321f0468eb5')\"\n",
              "              title=\"Convert this dataframe to an interactive table.\"\n",
              "              style=\"display:none;\">\n",
              "        \n",
              "  <svg xmlns=\"http://www.w3.org/2000/svg\" height=\"24px\"viewBox=\"0 0 24 24\"\n",
              "       width=\"24px\">\n",
              "    <path d=\"M0 0h24v24H0V0z\" fill=\"none\"/>\n",
              "    <path d=\"M18.56 5.44l.94 2.06.94-2.06 2.06-.94-2.06-.94-.94-2.06-.94 2.06-2.06.94zm-11 1L8.5 8.5l.94-2.06 2.06-.94-2.06-.94L8.5 2.5l-.94 2.06-2.06.94zm10 10l.94 2.06.94-2.06 2.06-.94-2.06-.94-.94-2.06-.94 2.06-2.06.94z\"/><path d=\"M17.41 7.96l-1.37-1.37c-.4-.4-.92-.59-1.43-.59-.52 0-1.04.2-1.43.59L10.3 9.45l-7.72 7.72c-.78.78-.78 2.05 0 2.83L4 21.41c.39.39.9.59 1.41.59.51 0 1.02-.2 1.41-.59l7.78-7.78 2.81-2.81c.8-.78.8-2.07 0-2.86zM5.41 20L4 18.59l7.72-7.72 1.47 1.35L5.41 20z\"/>\n",
              "  </svg>\n",
              "      </button>\n",
              "      \n",
              "  <style>\n",
              "    .colab-df-container {\n",
              "      display:flex;\n",
              "      flex-wrap:wrap;\n",
              "      gap: 12px;\n",
              "    }\n",
              "\n",
              "    .colab-df-convert {\n",
              "      background-color: #E8F0FE;\n",
              "      border: none;\n",
              "      border-radius: 50%;\n",
              "      cursor: pointer;\n",
              "      display: none;\n",
              "      fill: #1967D2;\n",
              "      height: 32px;\n",
              "      padding: 0 0 0 0;\n",
              "      width: 32px;\n",
              "    }\n",
              "\n",
              "    .colab-df-convert:hover {\n",
              "      background-color: #E2EBFA;\n",
              "      box-shadow: 0px 1px 2px rgba(60, 64, 67, 0.3), 0px 1px 3px 1px rgba(60, 64, 67, 0.15);\n",
              "      fill: #174EA6;\n",
              "    }\n",
              "\n",
              "    [theme=dark] .colab-df-convert {\n",
              "      background-color: #3B4455;\n",
              "      fill: #D2E3FC;\n",
              "    }\n",
              "\n",
              "    [theme=dark] .colab-df-convert:hover {\n",
              "      background-color: #434B5C;\n",
              "      box-shadow: 0px 1px 3px 1px rgba(0, 0, 0, 0.15);\n",
              "      filter: drop-shadow(0px 1px 2px rgba(0, 0, 0, 0.3));\n",
              "      fill: #FFFFFF;\n",
              "    }\n",
              "  </style>\n",
              "\n",
              "      <script>\n",
              "        const buttonEl =\n",
              "          document.querySelector('#df-342e7ede-c018-4006-a545-8321f0468eb5 button.colab-df-convert');\n",
              "        buttonEl.style.display =\n",
              "          google.colab.kernel.accessAllowed ? 'block' : 'none';\n",
              "\n",
              "        async function convertToInteractive(key) {\n",
              "          const element = document.querySelector('#df-342e7ede-c018-4006-a545-8321f0468eb5');\n",
              "          const dataTable =\n",
              "            await google.colab.kernel.invokeFunction('convertToInteractive',\n",
              "                                                     [key], {});\n",
              "          if (!dataTable) return;\n",
              "\n",
              "          const docLinkHtml = 'Like what you see? Visit the ' +\n",
              "            '<a target=\"_blank\" href=https://colab.research.google.com/notebooks/data_table.ipynb>data table notebook</a>'\n",
              "            + ' to learn more about interactive tables.';\n",
              "          element.innerHTML = '';\n",
              "          dataTable['output_type'] = 'display_data';\n",
              "          await google.colab.output.renderOutput(dataTable, element);\n",
              "          const docLink = document.createElement('div');\n",
              "          docLink.innerHTML = docLinkHtml;\n",
              "          element.appendChild(docLink);\n",
              "        }\n",
              "      </script>\n",
              "    </div>\n",
              "  </div>\n",
              "  "
            ],
            "text/plain": [
              "            SVM   MLP  Decision Tree   KNN  Hard Voting Classifier  \\\n",
              "Accuracy  84.42 74.03          75.32 77.92                   84.42   \n",
              "F1_score  81.40 71.94          72.67 75.08                   81.84   \n",
              "Recall    84.42 74.03          75.32 77.92                   84.42   \n",
              "Precision 84.42 74.03          75.32 77.92                   84.42   \n",
              "\n",
              "           Soft Voting Classifier  \n",
              "Accuracy                    83.12  \n",
              "F1_score                    80.54  \n",
              "Recall                      83.12  \n",
              "Precision                   83.12  "
            ]
          },
          "execution_count": 52,
          "metadata": {},
          "output_type": "execute_result"
        }
      ],
      "source": [
        "print('\\n\\t\\t\\t*** Model Comparison ***')\n",
        "model_comparison1.rename(index={0:'Accuracy',1:'F1_score', 2: 'Recall',3:'Precision'}, inplace=True)\n",
        "model_comparison1.head()"
      ]
    },
    {
      "cell_type": "markdown",
      "source": [
        "# ***Conclusion***"
      ],
      "metadata": {
        "id": "btZoFqWlUAde"
      }
    },
    {
      "cell_type": "markdown",
      "source": [
        "\n",
        "\n",
        "1.   Hard Voting Classifier gives the best result as compared to all other algorithms.\n",
        "2.   Based on above code, it can be concluded that ensemble learning technique increases the accuracy of the model as compared to single algorithmic strategy.\n",
        "3. Also, SVM gives more accuracy as compared to other models like MLP, Decision Trees, KNN.\n",
        "4. This is because C (regularization) parameter in SVC classifier control the tradeoff between low training error and low testing error.\n",
        "5. Hyper-parameter tuning increases the accuracy of a model.\n"
      ],
      "metadata": {
        "id": "St75crd8UGx4"
      }
    }
  ],
  "metadata": {
    "colab": {
      "provenance": []
    },
    "kernelspec": {
      "display_name": "Python 3",
      "name": "python3"
    },
    "language_info": {
      "name": "python"
    }
  },
  "nbformat": 4,
  "nbformat_minor": 0
}