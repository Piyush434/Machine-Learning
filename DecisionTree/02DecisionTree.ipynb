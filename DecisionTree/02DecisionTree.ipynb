{
  "nbformat": 4,
  "nbformat_minor": 0,
  "metadata": {
    "colab": {
      "provenance": [],
      "authorship_tag": "ABX9TyNRXHtDD370zgoe2/+mV6IB",
      "include_colab_link": true
    },
    "kernelspec": {
      "name": "python3",
      "display_name": "Python 3"
    },
    "language_info": {
      "name": "python"
    }
  },
  "cells": [
    {
      "cell_type": "markdown",
      "metadata": {
        "id": "view-in-github",
        "colab_type": "text"
      },
      "source": [
        "<a href=\"https://colab.research.google.com/github/Piyush434/Machine-Learning/blob/main/02DecisionTree.ipynb\" target=\"_parent\"><img src=\"https://colab.research.google.com/assets/colab-badge.svg\" alt=\"Open In Colab\"/></a>"
      ]
    },
    {
      "cell_type": "code",
      "execution_count": 1,
      "metadata": {
        "id": "ezNWhi1fU_XR"
      },
      "outputs": [],
      "source": [
        "from sklearn import datasets\n",
        "from sklearn.tree import DecisionTreeClassifier\n",
        "from sklearn.tree import export_graphviz\n",
        "from sklearn.model_selection import train_test_split"
      ]
    },
    {
      "cell_type": "code",
      "source": [
        "iris = datasets.load_iris()\n",
        "x_train, x_test, y_train, y_test = train_test_split(iris.data,iris.target,random_state = 1)"
      ],
      "metadata": {
        "id": "xuhlg1NGVXS-"
      },
      "execution_count": 2,
      "outputs": []
    },
    {
      "cell_type": "code",
      "source": [
        "clf = DecisionTreeClassifier()\n",
        "clf.fit(x_train,y_train)"
      ],
      "metadata": {
        "colab": {
          "base_uri": "https://localhost:8080/"
        },
        "id": "LDS8HoayVdp-",
        "outputId": "74ceb372-24bd-4b9c-f0f0-1346e44962c1"
      },
      "execution_count": 3,
      "outputs": [
        {
          "output_type": "execute_result",
          "data": {
            "text/plain": [
              "DecisionTreeClassifier()"
            ]
          },
          "metadata": {},
          "execution_count": 3
        }
      ]
    },
    {
      "cell_type": "code",
      "source": [
        "# this function will return data in the format (.dot) --> then we're gonna export it into .pdf\n",
        "import pydotplus\n",
        "dot_data = export_graphviz(clf,out_file=None)\n",
        "graph =  pydotplus.graph_from_dot_data(dot_data)\n",
        "graph.write_pdf(\"02DT_iris.pdf\")"
      ],
      "metadata": {
        "colab": {
          "base_uri": "https://localhost:8080/"
        },
        "id": "kZunm9w7VgDY",
        "outputId": "7078bb3a-d7db-4e20-e0e7-3bb6504f6e28"
      },
      "execution_count": 4,
      "outputs": [
        {
          "output_type": "execute_result",
          "data": {
            "text/plain": [
              "True"
            ]
          },
          "metadata": {},
          "execution_count": 4
        }
      ]
    },
    {
      "cell_type": "code",
      "source": [
        "y_train_pred = clf.predict(x_train)\n",
        "y_test_pred = clf.predict(x_test)"
      ],
      "metadata": {
        "id": "uK-HGy2WV_ri"
      },
      "execution_count": 5,
      "outputs": []
    },
    {
      "cell_type": "code",
      "source": [
        "from sklearn.metrics import confusion_matrix"
      ],
      "metadata": {
        "id": "kyGiOEYhf8SM"
      },
      "execution_count": 6,
      "outputs": []
    },
    {
      "cell_type": "code",
      "source": [
        "confusion_matrix(y_train,y_train_pred)"
      ],
      "metadata": {
        "id": "eKXpsAoXf_Jg",
        "outputId": "8ffd8900-5c9d-4cf5-e6bf-d0c8c0bf88f2",
        "colab": {
          "base_uri": "https://localhost:8080/"
        }
      },
      "execution_count": 7,
      "outputs": [
        {
          "output_type": "execute_result",
          "data": {
            "text/plain": [
              "array([[37,  0,  0],\n",
              "       [ 0, 34,  0],\n",
              "       [ 0,  0, 41]])"
            ]
          },
          "metadata": {},
          "execution_count": 7
        }
      ]
    },
    {
      "cell_type": "code",
      "source": [
        "confusion_matrix(y_test,y_test_pred)"
      ],
      "metadata": {
        "id": "4RiZDxaqgBQl",
        "outputId": "543caba3-8880-4a8d-ee2c-754985a1607a",
        "colab": {
          "base_uri": "https://localhost:8080/"
        }
      },
      "execution_count": 8,
      "outputs": [
        {
          "output_type": "execute_result",
          "data": {
            "text/plain": [
              "array([[13,  0,  0],\n",
              "       [ 0, 15,  1],\n",
              "       [ 0,  0,  9]])"
            ]
          },
          "metadata": {},
          "execution_count": 8
        }
      ]
    },
    {
      "cell_type": "code",
      "source": [],
      "metadata": {
        "id": "mAxpmC-LgDU0"
      },
      "execution_count": null,
      "outputs": []
    }
  ]
}
