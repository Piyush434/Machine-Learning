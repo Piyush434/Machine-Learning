{
  "nbformat": 4,
  "nbformat_minor": 0,
  "metadata": {
    "colab": {
      "provenance": []
    },
    "kernelspec": {
      "name": "python3",
      "display_name": "Python 3"
    },
    "language_info": {
      "name": "python"
    }
  },
  "cells": [
    {
      "cell_type": "code",
      "execution_count": 1,
      "metadata": {
        "id": "dBPhhSiP1AMR"
      },
      "outputs": [],
      "source": [
        "from sklearn import datasets\n",
        "from sklearn.linear_model import LogisticRegression\n",
        "from sklearn.model_selection import train_test_split"
      ]
    },
    {
      "cell_type": "code",
      "source": [
        "iris = datasets.load_iris()"
      ],
      "metadata": {
        "id": "2vx1hZhz1XMx"
      },
      "execution_count": 2,
      "outputs": []
    },
    {
      "cell_type": "code",
      "source": [
        "x_train,x_test,y_train,y_test = train_test_split(iris.data,iris.target)"
      ],
      "metadata": {
        "id": "T6pAjLDN1bWl"
      },
      "execution_count": 3,
      "outputs": []
    },
    {
      "cell_type": "code",
      "source": [
        "clf = LogisticRegression()\n",
        "clf.fit(x_train,y_train)"
      ],
      "metadata": {
        "colab": {
          "base_uri": "https://localhost:8080/"
        },
        "id": "Bu7ELZMD1mdC",
        "outputId": "b621c9af-b777-4cf2-aa9e-5103eb9a1acd"
      },
      "execution_count": 4,
      "outputs": [
        {
          "output_type": "stream",
          "name": "stderr",
          "text": [
            "/usr/local/lib/python3.8/dist-packages/sklearn/linear_model/_logistic.py:814: ConvergenceWarning: lbfgs failed to converge (status=1):\n",
            "STOP: TOTAL NO. of ITERATIONS REACHED LIMIT.\n",
            "\n",
            "Increase the number of iterations (max_iter) or scale the data as shown in:\n",
            "    https://scikit-learn.org/stable/modules/preprocessing.html\n",
            "Please also refer to the documentation for alternative solver options:\n",
            "    https://scikit-learn.org/stable/modules/linear_model.html#logistic-regression\n",
            "  n_iter_i = _check_optimize_result(\n"
          ]
        },
        {
          "output_type": "execute_result",
          "data": {
            "text/plain": [
              "LogisticRegression()"
            ]
          },
          "metadata": {},
          "execution_count": 4
        }
      ]
    },
    {
      "cell_type": "code",
      "source": [
        "y_train_pred = clf.predict(x_train)"
      ],
      "metadata": {
        "id": "wnNEaSku1re9"
      },
      "execution_count": 5,
      "outputs": []
    },
    {
      "cell_type": "code",
      "source": [
        "y_test_pred = clf.predict(x_test)"
      ],
      "metadata": {
        "id": "KDCIu6ei1wjR"
      },
      "execution_count": 6,
      "outputs": []
    },
    {
      "cell_type": "code",
      "source": [
        "from sklearn.metrics import confusion_matrix"
      ],
      "metadata": {
        "id": "8uDRVson1zlz"
      },
      "execution_count": 7,
      "outputs": []
    },
    {
      "cell_type": "code",
      "source": [
        "confusion_matrix(y_train,y_train_pred)"
      ],
      "metadata": {
        "colab": {
          "base_uri": "https://localhost:8080/"
        },
        "id": "7hXft0jS2A4E",
        "outputId": "d9b8cf96-22a8-4b05-fd46-4c51e90db0be"
      },
      "execution_count": 8,
      "outputs": [
        {
          "output_type": "execute_result",
          "data": {
            "text/plain": [
              "array([[39,  0,  0],\n",
              "       [ 0, 40,  1],\n",
              "       [ 0,  2, 30]])"
            ]
          },
          "metadata": {},
          "execution_count": 8
        }
      ]
    },
    {
      "cell_type": "code",
      "source": [
        "confusion_matrix(y_test,y_test_pred)"
      ],
      "metadata": {
        "colab": {
          "base_uri": "https://localhost:8080/"
        },
        "id": "t9SSPDKd2IZB",
        "outputId": "6d169a02-e718-43e8-866f-9b43fd4d5ce2"
      },
      "execution_count": 9,
      "outputs": [
        {
          "output_type": "execute_result",
          "data": {
            "text/plain": [
              "array([[11,  0,  0],\n",
              "       [ 0,  9,  0],\n",
              "       [ 0,  3, 15]])"
            ]
          },
          "metadata": {},
          "execution_count": 9
        }
      ]
    },
    {
      "cell_type": "markdown",
      "source": [
        "# Precision is percentage of accuracy among I have predicted and recall basically means percentage of accuracy among which were actual a or actual b"
      ],
      "metadata": {
        "id": "hErhxkLHFWyT"
      }
    },
    {
      "cell_type": "markdown",
      "source": [
        "# Hamne jo predict kiya hai uss me se correct is precision"
      ],
      "metadata": {
        "id": "27KdZnDAFmUX"
      }
    },
    {
      "cell_type": "markdown",
      "source": [
        "#Actual class hai usme se sahi is Recall"
      ],
      "metadata": {
        "id": "p9UEM6jLFsUm"
      }
    },
    {
      "cell_type": "markdown",
      "source": [
        "#Precision -> Vertical col in confusion matrix"
      ],
      "metadata": {
        "id": "xA-MbEjxFx79"
      }
    },
    {
      "cell_type": "markdown",
      "source": [
        "# Recall -> Horizontal row in confusion matrix"
      ],
      "metadata": {
        "id": "5jOHHVogF2H0"
      }
    },
    {
      "cell_type": "code",
      "source": [
        "from sklearn.metrics import classification_report\n",
        "print(classification_report(y_train,y_train_pred))"
      ],
      "metadata": {
        "id": "dIsJJKZh2Npj",
        "colab": {
          "base_uri": "https://localhost:8080/"
        },
        "outputId": "82ae6c97-2a03-41bc-c3c1-3aa8453b79c6"
      },
      "execution_count": 10,
      "outputs": [
        {
          "output_type": "stream",
          "name": "stdout",
          "text": [
            "              precision    recall  f1-score   support\n",
            "\n",
            "           0       1.00      1.00      1.00        39\n",
            "           1       0.95      0.98      0.96        41\n",
            "           2       0.97      0.94      0.95        32\n",
            "\n",
            "    accuracy                           0.97       112\n",
            "   macro avg       0.97      0.97      0.97       112\n",
            "weighted avg       0.97      0.97      0.97       112\n",
            "\n"
          ]
        }
      ]
    },
    {
      "cell_type": "code",
      "source": [
        "print(classification_report(y_test,y_test_pred))"
      ],
      "metadata": {
        "colab": {
          "base_uri": "https://localhost:8080/"
        },
        "id": "ehWZsVfeFQSN",
        "outputId": "2a171970-8356-4900-8f85-ddef09ba474e"
      },
      "execution_count": 11,
      "outputs": [
        {
          "output_type": "stream",
          "name": "stdout",
          "text": [
            "              precision    recall  f1-score   support\n",
            "\n",
            "           0       1.00      1.00      1.00        11\n",
            "           1       0.75      1.00      0.86         9\n",
            "           2       1.00      0.83      0.91        18\n",
            "\n",
            "    accuracy                           0.92        38\n",
            "   macro avg       0.92      0.94      0.92        38\n",
            "weighted avg       0.94      0.92      0.92        38\n",
            "\n"
          ]
        }
      ]
    },
    {
      "cell_type": "code",
      "source": [],
      "metadata": {
        "id": "OwU8pRXgFVi4"
      },
      "execution_count": null,
      "outputs": []
    }
  ]
}